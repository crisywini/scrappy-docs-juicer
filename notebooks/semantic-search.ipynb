{
 "cells": [
  {
   "cell_type": "code",
   "execution_count": 2,
   "metadata": {},
   "outputs": [
    {
     "name": "stderr",
     "output_type": "stream",
     "text": [
      "c:\\Users\\cristian.sanchezp\\AppData\\Local\\Programs\\Python\\Python312\\Lib\\site-packages\\tqdm\\auto.py:21: TqdmWarning: IProgress not found. Please update jupyter and ipywidgets. See https://ipywidgets.readthedocs.io/en/stable/user_install.html\n",
      "  from .autonotebook import tqdm as notebook_tqdm\n"
     ]
    }
   ],
   "source": [
    "from datasets import load_dataset\n",
    "from sentence_transformers import SentenceTransformer, util\n",
    "import torch\n",
    "import os\n",
    "import pandas as pd"
   ]
  },
  {
   "cell_type": "code",
   "execution_count": 3,
   "metadata": {},
   "outputs": [
    {
     "name": "stderr",
     "output_type": "stream",
     "text": [
      "c:\\Users\\cristian.sanchezp\\AppData\\Local\\Programs\\Python\\Python312\\Lib\\site-packages\\huggingface_hub\\file_download.py:149: UserWarning: `huggingface_hub` cache-system uses symlinks by default to efficiently store duplicated files but your machine does not support them in C:\\Users\\cristian.sanchezp\\.cache\\huggingface\\hub\\models--sentence-transformers--all-MiniLM-L6-v2. Caching files will still work but in a degraded version that might require more space on your disk. This warning can be disabled by setting the `HF_HUB_DISABLE_SYMLINKS_WARNING` environment variable. For more details, see https://huggingface.co/docs/huggingface_hub/how-to-cache#limitations.\n",
      "To support symlinks on Windows, you either need to activate Developer Mode or to run Python as an administrator. In order to see activate developer mode, see this article: https://docs.microsoft.com/en-us/windows/apps/get-started/enable-your-device-for-development\n",
      "  warnings.warn(message)\n"
     ]
    }
   ],
   "source": [
    "model = SentenceTransformer('all-MiniLM-L6-v2')"
   ]
  },
  {
   "cell_type": "code",
   "execution_count": 11,
   "metadata": {},
   "outputs": [],
   "source": [
    "df = pd.read_csv('../data/raw/idcloud-content.csv')"
   ]
  },
  {
   "cell_type": "code",
   "execution_count": 5,
   "metadata": {},
   "outputs": [
    {
     "name": "stderr",
     "output_type": "stream",
     "text": [
      "Batches: 100%|██████████| 22/22 [00:24<00:00,  1.13s/it]\n"
     ]
    }
   ],
   "source": [
    "passage_embeddings = list(model.encode(df['content'].to_list(), show_progress_bar=True))\n"
   ]
  },
  {
   "cell_type": "code",
   "execution_count": 14,
   "metadata": {},
   "outputs": [],
   "source": [
    "# Define a function to find relevant news articles based on a given query\n",
    "def find_relevant_info(query):\n",
    "    # Encode the query using the sentence transformer model\n",
    "    query_embedding = model.encode(query)\n",
    "    # Print the shape of the query embedding\n",
    "    query_embedding.shape\n",
    "\n",
    "    # Calculate the cosine similarity between the query embedding and the passage embeddings\n",
    "    similarities = util.cos_sim(query_embedding, passage_embeddings)\n",
    "\n",
    "    # Find the indices of the top 3 most similar passages\n",
    "    top_indicies = torch.topk(similarities.flatten(), 3).indices\n",
    "\n",
    "    # Get the top 3 relevant passages by slicing the summaries at 200 characters and adding an ellipsis\n",
    "    top_relevant_passages = [df.iloc[x.item()]['content'][:200] + \"...\" for x in top_indicies]\n",
    "\n",
    "    # Return the top 3 relevant passages\n",
    "    return top_relevant_passages"
   ]
  },
  {
   "cell_type": "code",
   "execution_count": 15,
   "metadata": {},
   "outputs": [
    {
     "data": {
      "text/plain": [
       "['Success node :: ForgeRock Identity Cloud Docs The Success node is a required element indicating the journey ended successfully.\\nForgeRock Identity Cloud\\nYes\\nForgeRock Access Management (self-managed)\\n...',\n",
       " 'Authentication nodes and journeys :: ForgeRock Identity Cloud Docs Authentication journeys provide fine-grained authentication by allowing multiple paths and decision points throughout\\nthe authenticat...',\n",
       " 'Self-service :: ForgeRock Identity Cloud Docs While many self-service activities take place during authentication in journeys and\\nalso relate to creating or updating identities,\\nthe use cases in this ...']"
      ]
     },
     "execution_count": 15,
     "metadata": {},
     "output_type": "execute_result"
    }
   ],
   "source": [
    "find_relevant_info(\"Journeys\")"
   ]
  },
  {
   "cell_type": "code",
   "execution_count": 27,
   "metadata": {},
   "outputs": [
    {
     "name": "stderr",
     "output_type": "stream",
     "text": [
      "[nltk_data] Downloading package stopwords to\n",
      "[nltk_data]     C:\\Users\\cristian.sanchezp\\AppData\\Roaming\\nltk_data..\n",
      "[nltk_data]     .\n",
      "[nltk_data]   Package stopwords is already up-to-date!\n",
      "[nltk_data] Downloading package punkt to\n",
      "[nltk_data]     C:\\Users\\cristian.sanchezp\\AppData\\Roaming\\nltk_data..\n",
      "[nltk_data]     .\n",
      "[nltk_data]   Unzipping tokenizers\\punkt.zip.\n"
     ]
    },
    {
     "data": {
      "text/plain": [
       "True"
      ]
     },
     "execution_count": 27,
     "metadata": {},
     "output_type": "execute_result"
    }
   ],
   "source": [
    "import nltk\n",
    "nltk.download('stopwords')\n",
    "nltk.download('punkt')\n"
   ]
  },
  {
   "cell_type": "code",
   "execution_count": 34,
   "metadata": {},
   "outputs": [
    {
     "name": "stderr",
     "output_type": "stream",
     "text": [
      "No model was supplied, defaulted to sshleifer/distilbart-cnn-12-6 and revision a4f8f3e (https://huggingface.co/sshleifer/distilbart-cnn-12-6).\n",
      "Using a pipeline without specifying a model name and revision in production is not recommended.\n"
     ]
    }
   ],
   "source": [
    "from transformers import pipeline\n",
    "from rake_nltk import Rake\n",
    "\n",
    "# Initialize the text summarization pipeline\n",
    "summarization_pipeline = pipeline(\"summarization\")\n",
    "\n",
    "# Sample input text\n",
    "text = df['content'][0]\n"
   ]
  },
  {
   "cell_type": "code",
   "execution_count": 35,
   "metadata": {},
   "outputs": [],
   "source": [
    "# Generate summary using the transformer-based model\n",
    "summary = summarization_pipeline(text, max_length=100, min_length=30, do_sample=False)"
   ]
  },
  {
   "cell_type": "code",
   "execution_count": 36,
   "metadata": {},
   "outputs": [
    {
     "data": {
      "text/plain": [
       "[{'summary_text': ' Identity Cloud docs home :: ForgeRock Identity Cloud Docs . Part 1: Integrating Azure with ForgeRock ID Cloud using SAML2 using ESVs . Part 2: Integating Azure with Identity Cloud using OAuth2 client config in OIDC claim script . Getting Started for Identity Cloud: Access Management .'}]"
      ]
     },
     "execution_count": 36,
     "metadata": {},
     "output_type": "execute_result"
    }
   ],
   "source": [
    "summary"
   ]
  },
  {
   "cell_type": "code",
   "execution_count": 37,
   "metadata": {},
   "outputs": [
    {
     "data": {
      "text/plain": [
       "' Identity Cloud docs home :: ForgeRock Identity Cloud Docs . Part 1: Integrating Azure with ForgeRock ID Cloud using SAML2 using ESVs . Part 2: Integating Azure with Identity Cloud using OAuth2 client config in OIDC claim script . Getting Started for Identity Cloud: Access Management .'"
      ]
     },
     "execution_count": 37,
     "metadata": {},
     "output_type": "execute_result"
    }
   ],
   "source": [
    "summary[0][\"summary_text\"]"
   ]
  },
  {
   "cell_type": "code",
   "execution_count": 38,
   "metadata": {},
   "outputs": [],
   "source": [
    "# Extract keywords from the summary using RAKE\n",
    "r = Rake()\n",
    "r.extract_keywords_from_text(summary[0][\"summary_text\"])\n",
    "keywords = r.get_ranked_phrases()\n"
   ]
  },
  {
   "cell_type": "code",
   "execution_count": 39,
   "metadata": {},
   "outputs": [
    {
     "name": "stdout",
     "output_type": "stream",
     "text": [
      "Keywords: ['identity cloud docs home :: forgerock identity cloud docs', 'forgerock id cloud using saml2 using esvs', 'identity cloud using oauth2 client config', 'identity cloud', 'oidc claim script', 'part 2', 'part 1', 'integrating azure', 'integating azure', 'getting started', 'access management']\n"
     ]
    }
   ],
   "source": [
    "\n",
    "# Print the extracted keywords\n",
    "print(\"Keywords:\", keywords)"
   ]
  },
  {
   "cell_type": "code",
   "execution_count": null,
   "metadata": {},
   "outputs": [],
   "source": []
  }
 ],
 "metadata": {
  "kernelspec": {
   "display_name": "Python 3",
   "language": "python",
   "name": "python3"
  },
  "language_info": {
   "codemirror_mode": {
    "name": "ipython",
    "version": 3
   },
   "file_extension": ".py",
   "mimetype": "text/x-python",
   "name": "python",
   "nbconvert_exporter": "python",
   "pygments_lexer": "ipython3",
   "version": "3.12.0"
  }
 },
 "nbformat": 4,
 "nbformat_minor": 2
}
