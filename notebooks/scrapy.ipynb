{
 "cells": [
  {
   "cell_type": "code",
   "execution_count": 1,
   "metadata": {},
   "outputs": [],
   "source": [
    "import requests\n",
    "from bs4 import BeautifulSoup\n",
    "import pandas as pd"
   ]
  },
  {
   "cell_type": "code",
   "execution_count": 2,
   "metadata": {},
   "outputs": [
    {
     "name": "stdout",
     "output_type": "stream",
     "text": [
      "<table cellspacing=\"0\" class=\"table table-striped table-bordered\" id=\"example2\" width=\"100%\"> <thead> <tr> <th>#</th> <th>Country (or dependency)</th> <th>Population<br/> (2023)</th> <th>Yearly<br/> Change</th> <th>Net<br/> Change</th> <th>Density<br/> (P/Km²)</th> <th>Land Area<br/> (Km²)</th> <th>Migrants<br/> (net)</th> <th>Fert.<br/> Rate</th> <th>Med.<br/> Age</th> <th>Urban<br/> Pop %</th> <th>World<br/> Share</th> </tr> </thead> <tbody> <tr> <td>1</td> <td style=\"font-weight: bold; font-size:15px; text-align:left\"><a href=\"/world-population/india-population/\">India</a></td> <td style=\"font-weight: bold;\">1,428,627,663</td> <td>0.81 %</td> <td>11,454,490</td> <td>481</td> <td>2,973,190</td> <td>-486,136</td> <td>2.0</td> <td>28</td> <td>36 %</td> <td>17.76 %</td> </tr> <tr> <td>2</td> <td style=\"font-weight: bold; font-size:15px; text-align:left\"><a href=\"/world-population/china-population/\">China</a></td> <td style=\"font-weight: bold;\">1,425,671,352</td> <td>-0.02 %</td> <td>-215,985</td> <td>152</td> <td>9,388,211</td> <td>-310,220</td> <td>1.2</td> <td>39</td> <td>65 %</td> <td>17.72 %</td> </tr> <tr> <td>3</td> <td style=\"font-weight: bold; font-size:15px; text-align:left\"><a href=\"/world-population/us-population/\">United States</a></td> <td style=\"font-weight: bold;\">339,996,563</td> <td>0.50 %</td> <td>1,706,706</td> <td>37</td> <td>9,147,420</td> <td>999,700</td> <td>1.7</td> <td>38</td> <td>83 %</td> <td>4.23 %</td> </tr> <tr> <td>4</td> <td style=\"font-weight: bold; font-size:15px; text-align:left\"><a href=\"/world-population/indonesia-population/\">Indonesia</a></td> <td style=\"font-weight: bold;\">277,534,122</td> <td>0.74 %</td> <td>2,032,783</td> <td>153</td> <td>1,811,570</td> <td>-49,997</td> <td>2.1</td> <td>30</td> <td>59 %</td> <td>3.45 %</td> </tr> <tr> <td>5</td> <td style=\"font-weight: bold; font-size:15px; text-align:left\"><a href=\"/world-population/pakistan-population/\">Pakistan</a></td> <td style=\"font-weight: bold;\">240,485,658</td> <td>1.98 %</td> <td>4,660,796</td> <td>312</td> <td>770,880</td> <td>-165,988</td> <td>3.3</td> <td>21</td> <td>35 %</td> <td>2.99 %</td> </tr> <tr> <td>6</td> <td style=\"font-weight: bold; font-size:15px; text-align:left\"><a href=\"/world-population/nigeria-population/\">Nigeria</a></td> <td style=\"font-weight: bold;\">223,804,632</td> <td>2.41 %</td> <td>5,263,420</td> <td>246</td> <td>910,770</td> <td>-59,996</td> <td>5.1</td> <td>17</td> <td>54 %</td> <td>2.78 %</td> </tr> <tr> <td>7</td> <td style=\"font-weight: bold; font-size:15px; text-align:left\"><a href=\"/world-population/brazil-population/\">Brazil</a></td> <td style=\"font-weight: bold;\">216,422,446</td> <td>0.52 %</td> <td>1,108,948</td> <td>26</td> <td>8,358,140</td> <td>6,000</td> <td>1.6</td> <td>34</td> <td>88 %</td> <td>2.69 %</td> </tr> <tr> <td>8</td> <td style=\"font-weight: bold; font-size:15px; text-align:left\"><a href=\"/world-population/bangladesh-population/\">Bangladesh</a></td> <td style=\"font-weight: bold;\">172,954,319</td> <td>1.03 %</td> <td>1,767,947</td> <td>1,329</td> <td>130,170</td> <td>-309,977</td> <td>1.9</td> <td>27</td> <td>41 %</td> <td>2.15 %</td> </tr> <tr> <td>9</td> <td style=\"font-weight: bold; font-size:15px; text-align:left\"><a href=\"/world-population/russia-population/\">Russia</a></td> <td style=\"font-weight: bold;\">144,444,359</td> <td>-0.19 %</td> <td>-268,955</td> <td>9</td> <td>16,376,870</td> <td>-136,414</td> <td>1.5</td> <td>39</td> <td>75 %</td> <td>1.80 %</td> </tr> <tr> <td>10</td> <td style=\"font-weight: bold; font-size:15px; text-align:left\"><a href=\"/world-population/mexico-population/\">Mexico</a></td> <td style=\"font-weight: bold;\">128,455,567</td> <td>0.75 %</td> <td>951,442</td> <td>66</td> <td>1,943,950</td> <td>-50,239</td> <td>1.8</td> <td>30</td> <td>88 %</td> <td>1.60 %</td> </tr> <tr> <td>11</td> <td style=\"font-weight: bold; font-size:15px; text-align:left\"><a href=\"/world-population/ethiopia-population/\">Ethiopia</a></td> <td style=\"font-weight: bold;\">126,527,060</td> <td>2.55 %</td> <td>3,147,136</td> <td>127</td> <td>1,000,000</td> <td>-11,999</td> <td>4.0</td> <td>19</td> <td>22 %</td> <td>1.57 %</td> </tr> <tr> <td>12</td> <td style=\"font-weight: bold; font-size:15px; text-align:left\"><a href=\"/world-population/japan-population/\">Japan</a></td> <td style=\"font-weight: bold;\">123,294,513</td> <td>-0.53 %</td> <td>-657,179</td> <td>338</td> <td>364,555</td> <td>99,994</td> <td>1.3</td> <td>49</td> <td>94 %</td> <td>1.53 %</td> </tr> <tr> <td>13</td> <td style=\"font-weight: bold; font-size:15px; text-align:left\"><a href=\"/world-population/philippines-population/\">Philippines</a></td> <td style=\"font-weight: bold;\">117,337,368</td> <td>1.54 %</td> <td>1,778,359</td> <td>394</td> <td>298,170</td> <td>-69,996</td> <td>2.7</td> <td>25</td> <td>47 %</td> <td>1.46 %</td> </tr> <tr> <td>14</td> <td style=\"font-weight: bold; font-size:15px; text-align:left\"><a href=\"/world-population/egypt-population/\">Egypt</a></td> <td style=\"font-weight: bold;\">112,716,598</td> <td>1.56 %</td> <td>1,726,495</td> <td>113</td> <td>995,450</td> <td>-29,998</td> <td>2.8</td> <td>24</td> <td>41 %</td> <td>1.40 %</td> </tr> <tr> <td>15</td> <td style=\"font-weight: bold; font-size:15px; text-align:left\"><a href=\"/world-population/democratic-republic-of-the-congo-population/\">DR Congo</a></td> <td style=\"font-weight: bold;\">102,262,808</td> <td>3.29 %</td> <td>3,252,596</td> <td>45</td> <td>2,267,050</td> <td>-14,999</td> <td>6.1</td> <td>16</td> <td>46 %</td> <td>1.27 %</td> </tr> <tr> <td>16</td> <td style=\"font-weight: bold; font-size:15px; text-align:left\"><a href=\"/world-population/vietnam-population/\">Vietnam</a></td> <td style=\"font-weight: bold;\">98,858,950</td> <td>0.68 %</td> <td>672,094</td> <td>319</td> <td>310,070</td> <td>-82,700</td> <td>1.9</td> <td>33</td> <td>40 %</td> <td>1.23 %</td> </tr> <tr> <td>17</td> <td style=\"font-weight: bold; font-size:15px; text-align:left\"><a href=\"/world-population/iran-population/\">Iran</a></td> <td style=\"font-weight: bold;\">89,172,767</td> <td>0.70 %</td> <td>622,197</td> <td>55</td> <td>1,628,550</td> <td>-39,998</td> <td>1.7</td> <td>33</td> <td>74 %</td> <td>1.11 %</td> </tr> <tr> <td>18</td> <td style=\"font-weight: bold; font-size:15px; text-align:left\"><a href=\"/world-population/turkey-population/\">Turkey</a></td> <td style=\"font-weight: bold;\">85,816,199</td> <td>0.56 %</td> <td>474,958</td> <td>112</td> <td>769,630</td> <td>-318,067</td> <td>1.9</td> <td>32</td> <td>77 %</td> <td>1.07 %</td> </tr> <tr> <td>19</td> <td style=\"font-weight: bold; font-size:15px; text-align:left\"><a href=\"/world-population/germany-population/\">Germany</a></td> <td style=\"font-weight: bold;\">83,294,633</td> <td>-0.09 %</td> <td>-75,210</td> <td>239</td> <td>348,560</td> <td>155,751</td> <td>1.5</td> <td>45</td> <td>77 %</td> <td>1.04 %</td> </tr> <tr> <td>20</td> <td style=\"font-weight: bold; font-size:15px; text-align:left\"><a href=\"/world-population/thailand-population/\">Thailand</a></td> <td style=\"font-weight: bold;\">71,801,279</td> <td>0.15 %</td> <td>104,249</td> <td>141</td> <td>510,890</td> <td>18,999</td> <td>1.3</td> <td>40</td> <td>52 %</td> <td>0.89 %</td> </tr> <tr> <td>21</td> <td style=\"font-weight: bold; font-size:15px; text-align:left\"><a href=\"/world-population/uk-population/\">United Kingdom</a></td> <td style=\"font-weight: bold;\">67,736,802</td> <td>0.34 %</td> <td>227,866</td> <td>280</td> <td>241,930</td> <td>165,790</td> <td>1.6</td> <td>40</td> <td>85 %</td> <td>0.84 %</td> </tr> <tr> <td>22</td> <td style=\"font-weight: bold; font-size:15px; text-align:left\"><a href=\"/world-population/tanzania-population/\">Tanzania</a></td> <td style=\"font-weight: bold;\">67,438,106</td> <td>2.96 %</td> <td>1,940,358</td> <td>76</td> <td>885,800</td> <td>-39,997</td> <td>4.6</td> <td>17</td> <td>38 %</td> <td>0.84 %</td> </tr> <tr> <td>23</td> <td style=\"font-weight: bold; font-size:15px; text-align:left\"><a href=\"/world-population/france-population/\">France</a></td> <td style=\"font-weight: bold;\">64,756,584</td> <td>0.20 %</td> <td>129,956</td> <td>118</td> <td>547,557</td> <td>67,761</td> <td>1.8</td> <td>42</td> <td>84 %</td> <td>0.80 %</td> </tr> <tr> <td>24</td> <td style=\"font-weight: bold; font-size:15px; text-align:left\"><a href=\"/world-population/south-africa-population/\">South Africa</a></td> <td style=\"font-weight: bold;\">60,414,495</td> <td>0.87 %</td> <td>520,610</td> <td>50</td> <td>1,213,090</td> <td>58,496</td> <td>2.3</td> <td>28</td> <td>69 %</td> <td>0.75 %</td> </tr> <tr> <td>25</td> <td style=\"font-weight: bold; font-size:15px; text-align:left\"><a href=\"/world-population/italy-population/\">Italy</a></td> <td style=\"font-weight: bold;\">58,870,762</td> <td>-0.28 %</td> <td>-166,712</td> <td>200</td> <td>294,140</td> <td>58,496</td> <td>1.3</td> <td>48</td> <td>72 %</td> <td>0.73 %</td> </tr> <tr> <td>26</td> <td style=\"font-weight: bold; font-size:15px; text-align:left\"><a href=\"/world-population/kenya-population/\">Kenya</a></td> <td style=\"font-weight: bold;\">55,100,586</td> <td>1.99 %</td> <td>1,073,099</td> <td>97</td> <td>569,140</td> <td>-10,000</td> <td>3.2</td> <td>20</td> <td>31 %</td> <td>0.68 %</td> </tr> <tr> <td>27</td> <td style=\"font-weight: bold; font-size:15px; text-align:left\"><a href=\"/world-population/myanmar-population/\">Myanmar</a></td> <td style=\"font-weight: bold;\">54,577,997</td> <td>0.74 %</td> <td>398,691</td> <td>84</td> <td>653,290</td> <td>-34,998</td> <td>2.1</td> <td>30</td> <td>33 %</td> <td>0.68 %</td> </tr> <tr> <td>28</td> <td style=\"font-weight: bold; font-size:15px; text-align:left\"><a href=\"/world-population/colombia-population/\">Colombia</a></td> <td style=\"font-weight: bold;\">52,085,168</td> <td>0.41 %</td> <td>211,144</td> <td>47</td> <td>1,109,500</td> <td>-175,051</td> <td>1.7</td> <td>32</td> <td>81 %</td> <td>0.65 %</td> </tr> <tr> <td>29</td> <td style=\"font-weight: bold; font-size:15px; text-align:left\"><a href=\"/world-population/south-korea-population/\">South Korea</a></td> <td style=\"font-weight: bold;\">51,784,059</td> <td>-0.06 %</td> <td>-31,751</td> <td>533</td> <td>97,230</td> <td>29,998</td> <td>0.9</td> <td>44</td> <td>82 %</td> <td>0.64 %</td> </tr> <tr> <td>30</td> <td style=\"font-weight: bold; font-size:15px; text-align:left\"><a href=\"/world-population/uganda-population/\">Uganda</a></td> <td style=\"font-weight: bold;\">48,582,334</td> <td>2.82 %</td> <td>1,332,749</td> <td>243</td> <td>199,810</td> <td>-126,181</td> <td>4.4</td> <td>16</td> <td>29 %</td> <td>0.60 %</td> </tr> <tr> <td>31</td> <td style=\"font-weight: bold; font-size:15px; text-align:left\"><a href=\"/world-population/sudan-population/\">Sudan</a></td> <td style=\"font-weight: bold;\">48,109,006</td> <td>2.63 %</td> <td>1,234,802</td> <td>27</td> <td>1,765,048</td> <td>-9,999</td> <td>4.3</td> <td>19</td> <td>35 %</td> <td>0.60 %</td> </tr> <tr> <td>32</td> <td style=\"font-weight: bold; font-size:15px; text-align:left\"><a href=\"/world-population/spain-population/\">Spain</a></td> <td style=\"font-weight: bold;\">47,519,628</td> <td>-0.08 %</td> <td>-39,002</td> <td>95</td> <td>498,800</td> <td>39,998</td> <td>1.3</td> <td>45</td> <td>80 %</td> <td>0.59 %</td> </tr> <tr> <td>33</td> <td style=\"font-weight: bold; font-size:15px; text-align:left\"><a href=\"/world-population/argentina-population/\">Argentina</a></td> <td style=\"font-weight: bold;\">45,773,884</td> <td>0.58 %</td> <td>263,566</td> <td>17</td> <td>2,736,690</td> <td>3,718</td> <td>1.9</td> <td>32</td> <td>94 %</td> <td>0.57 %</td> </tr> <tr> <td>34</td> <td style=\"font-weight: bold; font-size:15px; text-align:left\"><a href=\"/world-population/algeria-population/\">Algeria</a></td> <td style=\"font-weight: bold;\">45,606,480</td> <td>1.57 %</td> <td>703,255</td> <td>19</td> <td>2,381,740</td> <td>-9,999</td> <td>2.8</td> <td>28</td> <td>75 %</td> <td>0.57 %</td> </tr> <tr> <td>35</td> <td style=\"font-weight: bold; font-size:15px; text-align:left\"><a href=\"/world-population/iraq-population/\">Iraq</a></td> <td style=\"font-weight: bold;\">45,504,560</td> <td>2.27 %</td> <td>1,008,438</td> <td>105</td> <td>434,320</td> <td>-6,000</td> <td>3.4</td> <td>20</td> <td>71 %</td> <td>0.57 %</td> </tr> <tr> <td>36</td> <td style=\"font-weight: bold; font-size:15px; text-align:left\"><a href=\"/world-population/afghanistan-population/\">Afghanistan</a></td> <td style=\"font-weight: bold;\">42,239,854</td> <td>2.70 %</td> <td>1,111,083</td> <td>65</td> <td>652,860</td> <td>-65,846</td> <td>4.4</td> <td>17</td> <td>26 %</td> <td>0.53 %</td> </tr> <tr> <td>37</td> <td style=\"font-weight: bold; font-size:15px; text-align:left\"><a href=\"/world-population/poland-population/\">Poland</a></td> <td style=\"font-weight: bold;\">41,026,067</td> <td>2.93 %</td> <td>1,168,922</td> <td>134</td> <td>306,230</td> <td>-910,475</td> <td>1.5</td> <td>40</td> <td>55 %</td> <td>0.51 %</td> </tr> <tr> <td>38</td> <td style=\"font-weight: bold; font-size:15px; text-align:left\"><a href=\"/world-population/canada-population/\">Canada</a></td> <td style=\"font-weight: bold;\">38,781,291</td> <td>0.85 %</td> <td>326,964</td> <td>4</td> <td>9,093,510</td> <td>249,746</td> <td>1.5</td> <td>41</td> <td>81 %</td> <td>0.48 %</td> </tr> <tr> <td>39</td> <td style=\"font-weight: bold; font-size:15px; text-align:left\"><a href=\"/world-population/morocco-population/\">Morocco</a></td> <td style=\"font-weight: bold;\">37,840,044</td> <td>1.02 %</td> <td>382,073</td> <td>85</td> <td>446,300</td> <td>-39,998</td> <td>2.3</td> <td>29</td> <td>66 %</td> <td>0.47 %</td> </tr> <tr> <td>40</td> <td style=\"font-weight: bold; font-size:15px; text-align:left\"><a href=\"/world-population/saudi-arabia-population/\">Saudi Arabia</a></td> <td style=\"font-weight: bold;\">36,947,025</td> <td>1.48 %</td> <td>538,205</td> <td>17</td> <td>2,149,690</td> <td>28,998</td> <td>2.4</td> <td>31</td> <td>83 %</td> <td>0.46 %</td> </tr> <tr> <td>41</td> <td style=\"font-weight: bold; font-size:15px; text-align:left\"><a href=\"/world-population/ukraine-population/\">Ukraine</a></td> <td style=\"font-weight: bold;\">36,744,634</td> <td>-7.45 %</td> <td>-2,957,105</td> <td>63</td> <td>579,320</td> <td>1,784,718</td> <td>1.3</td> <td>45</td> <td>82 %</td> <td>0.46 %</td> </tr> <tr> <td>42</td> <td style=\"font-weight: bold; font-size:15px; text-align:left\"><a href=\"/world-population/angola-population/\">Angola</a></td> <td style=\"font-weight: bold;\">36,684,202</td> <td>3.08 %</td> <td>1,095,215</td> <td>29</td> <td>1,246,700</td> <td>-1,000</td> <td>5.1</td> <td>16</td> <td>68 %</td> <td>0.46 %</td> </tr> <tr> <td>43</td> <td style=\"font-weight: bold; font-size:15px; text-align:left\"><a href=\"/world-population/uzbekistan-population/\">Uzbekistan</a></td> <td style=\"font-weight: bold;\">35,163,944</td> <td>1.55 %</td> <td>536,292</td> <td>83</td> <td>425,400</td> <td>-19,999</td> <td>2.8</td> <td>27</td> <td>49 %</td> <td>0.44 %</td> </tr> <tr> <td>44</td> <td style=\"font-weight: bold; font-size:15px; text-align:left\"><a href=\"/world-population/yemen-population/\">Yemen</a></td> <td style=\"font-weight: bold;\">34,449,825</td> <td>2.24 %</td> <td>753,211</td> <td>65</td> <td>527,970</td> <td>-29,914</td> <td>3.6</td> <td>19</td> <td>37 %</td> <td>0.43 %</td> </tr> <tr> <td>45</td> <td style=\"font-weight: bold; font-size:15px; text-align:left\"><a href=\"/world-population/peru-population/\">Peru</a></td> <td style=\"font-weight: bold;\">34,352,719</td> <td>0.89 %</td> <td>303,131</td> <td>27</td> <td>1,280,000</td> <td>-61,442</td> <td>2.1</td> <td>29</td> <td>79 %</td> <td>0.43 %</td> </tr> <tr> <td>46</td> <td style=\"font-weight: bold; font-size:15px; text-align:left\"><a href=\"/world-population/malaysia-population/\">Malaysia</a></td> <td style=\"font-weight: bold;\">34,308,525</td> <td>1.09 %</td> <td>370,304</td> <td>104</td> <td>328,550</td> <td>48,997</td> <td>1.8</td> <td>31</td> <td>78 %</td> <td>0.43 %</td> </tr> <tr> <td>47</td> <td style=\"font-weight: bold; font-size:15px; text-align:left\"><a href=\"/world-population/ghana-population/\">Ghana</a></td> <td style=\"font-weight: bold;\">34,121,985</td> <td>1.93 %</td> <td>646,115</td> <td>150</td> <td>227,540</td> <td>-9,999</td> <td>3.5</td> <td>21</td> <td>57 %</td> <td>0.42 %</td> </tr> <tr> <td>48</td> <td style=\"font-weight: bold; font-size:15px; text-align:left\"><a href=\"/world-population/mozambique-population/\">Mozambique</a></td> <td style=\"font-weight: bold;\">33,897,354</td> <td>2.81 %</td> <td>927,836</td> <td>43</td> <td>786,380</td> <td>-5,000</td> <td>4.5</td> <td>17</td> <td>40 %</td> <td>0.42 %</td> </tr> <tr> <td>49</td> <td style=\"font-weight: bold; font-size:15px; text-align:left\"><a href=\"/world-population/nepal-population/\">Nepal</a></td> <td style=\"font-weight: bold;\">30,896,590</td> <td>1.14 %</td> <td>349,010</td> <td>216</td> <td>143,350</td> <td>-62,012</td> <td>2.0</td> <td>24</td> <td>22 %</td> <td>0.38 %</td> </tr> <tr> <td>50</td> <td style=\"font-weight: bold; font-size:15px; text-align:left\"><a href=\"/world-population/madagascar-population/\">Madagascar</a></td> <td style=\"font-weight: bold;\">30,325,732</td> <td>2.41 %</td> <td>714,018</td> <td>52</td> <td>581,795</td> <td>-1,500</td> <td>3.7</td> <td>19</td> <td>40 %</td> <td>0.38 %</td> </tr> <tr> <td>51</td> <td style=\"font-weight: bold; font-size:15px; text-align:left\"><a href=\"/world-population/cote-d-ivoire-population/\">Côte d'Ivoire</a></td> <td style=\"font-weight: bold;\">28,873,034</td> <td>2.53 %</td> <td>712,492</td> <td>91</td> <td>318,000</td> <td>6,000</td> <td>4.3</td> <td>18</td> <td>52 %</td> <td>0.36 %</td> </tr> <tr> <td>52</td> <td style=\"font-weight: bold; font-size:15px; text-align:left\"><a href=\"/world-population/venezuela-population/\">Venezuela</a></td> <td style=\"font-weight: bold;\">28,838,499</td> <td>1.90 %</td> <td>536,803</td> <td>33</td> <td>882,050</td> <td>321,106</td> <td>2.2</td> <td>28</td> <td>N.A.</td> <td>0.36 %</td> </tr> <tr> <td>53</td> <td style=\"font-weight: bold; font-size:15px; text-align:left\"><a href=\"/world-population/cameroon-population/\">Cameroon</a></td> <td style=\"font-weight: bold;\">28,647,293</td> <td>2.63 %</td> <td>732,757</td> <td>61</td> <td>472,710</td> <td>-4,800</td> <td>4.3</td> <td>18</td> <td>58 %</td> <td>0.36 %</td> </tr> <tr> <td>54</td> <td style=\"font-weight: bold; font-size:15px; text-align:left\"><a href=\"/world-population/niger-population/\">Niger</a></td> <td style=\"font-weight: bold;\">27,202,843</td> <td>3.80 %</td> <td>994,866</td> <td>21</td> <td>1,266,700</td> <td>1,000</td> <td>6.7</td> <td>15</td> <td>17 %</td> <td>0.34 %</td> </tr> <tr> <td>55</td> <td style=\"font-weight: bold; font-size:15px; text-align:left\"><a href=\"/world-population/australia-population/\">Australia</a></td> <td style=\"font-weight: bold;\">26,439,111</td> <td>1.00 %</td> <td>261,698</td> <td>3</td> <td>7,682,300</td> <td>139,991</td> <td>1.6</td> <td>38</td> <td>86 %</td> <td>0.33 %</td> </tr> <tr> <td>56</td> <td style=\"font-weight: bold; font-size:15px; text-align:left\"><a href=\"/world-population/north-korea-population/\">North Korea</a></td> <td style=\"font-weight: bold;\">26,160,821</td> <td>0.35 %</td> <td>91,405</td> <td>217</td> <td>120,410</td> <td>-2,000</td> <td>1.8</td> <td>36</td> <td>63 %</td> <td>0.33 %</td> </tr> <tr> <td>57</td> <td style=\"font-weight: bold; font-size:15px; text-align:left\"><a href=\"/world-population/taiwan-population/\">Taiwan</a></td> <td style=\"font-weight: bold;\">23,923,276</td> <td>0.13 %</td> <td>29,882</td> <td>676</td> <td>35,410</td> <td>23,999</td> <td>1.2</td> <td>42</td> <td>80 %</td> <td>0.30 %</td> </tr> <tr> <td>58</td> <td style=\"font-weight: bold; font-size:15px; text-align:left\"><a href=\"/world-population/mali-population/\">Mali</a></td> <td style=\"font-weight: bold;\">23,293,698</td> <td>3.10 %</td> <td>700,108</td> <td>19</td> <td>1,220,190</td> <td>-39,998</td> <td>5.8</td> <td>15</td> <td>44 %</td> <td>0.29 %</td> </tr> <tr> <td>59</td> <td style=\"font-weight: bold; font-size:15px; text-align:left\"><a href=\"/world-population/burkina-faso-population/\">Burkina Faso</a></td> <td style=\"font-weight: bold;\">23,251,485</td> <td>2.55 %</td> <td>577,723</td> <td>85</td> <td>273,600</td> <td>-24,998</td> <td>4.6</td> <td>17</td> <td>32 %</td> <td>0.29 %</td> </tr> <tr> <td>60</td> <td style=\"font-weight: bold; font-size:15px; text-align:left\"><a href=\"/world-population/syria-population/\">Syria</a></td> <td style=\"font-weight: bold;\">23,227,014</td> <td>4.98 %</td> <td>1,101,765</td> <td>126</td> <td>183,630</td> <td>757,103</td> <td>2.7</td> <td>22</td> <td>53 %</td> <td>0.29 %</td> </tr> <tr> <td>61</td> <td style=\"font-weight: bold; font-size:15px; text-align:left\"><a href=\"/world-population/sri-lanka-population/\">Sri Lanka</a></td> <td style=\"font-weight: bold;\">21,893,579</td> <td>0.28 %</td> <td>61,436</td> <td>349</td> <td>62,710</td> <td>-77,495</td> <td>2.0</td> <td>33</td> <td>19 %</td> <td>0.27 %</td> </tr> <tr> <td>62</td> <td style=\"font-weight: bold; font-size:15px; text-align:left\"><a href=\"/world-population/malawi-population/\">Malawi</a></td> <td style=\"font-weight: bold;\">20,931,751</td> <td>2.58 %</td> <td>526,434</td> <td>222</td> <td>94,280</td> <td>-6,000</td> <td>3.8</td> <td>17</td> <td>19 %</td> <td>0.26 %</td> </tr> <tr> <td>63</td> <td style=\"font-weight: bold; font-size:15px; text-align:left\"><a href=\"/world-population/zambia-population/\">Zambia</a></td> <td style=\"font-weight: bold;\">20,569,737</td> <td>2.76 %</td> <td>552,062</td> <td>28</td> <td>743,390</td> <td>-5,000</td> <td>4.2</td> <td>17</td> <td>46 %</td> <td>0.26 %</td> </tr> <tr> <td>64</td> <td style=\"font-weight: bold; font-size:15px; text-align:left\"><a href=\"/world-population/romania-population/\">Romania</a></td> <td style=\"font-weight: bold;\">19,892,812</td> <td>1.19 %</td> <td>233,545</td> <td>86</td> <td>230,170</td> <td>-254,616</td> <td>1.7</td> <td>41</td> <td>53 %</td> <td>0.25 %</td> </tr> <tr> <td>65</td> <td style=\"font-weight: bold; font-size:15px; text-align:left\"><a href=\"/world-population/chile-population/\">Chile</a></td> <td style=\"font-weight: bold;\">19,629,590</td> <td>0.13 %</td> <td>25,857</td> <td>26</td> <td>743,532</td> <td>-71,205</td> <td>1.5</td> <td>36</td> <td>85 %</td> <td>0.24 %</td> </tr> <tr> <td>66</td> <td style=\"font-weight: bold; font-size:15px; text-align:left\"><a href=\"/world-population/kazakhstan-population/\">Kazakhstan</a></td> <td style=\"font-weight: bold;\">19,606,633</td> <td>1.08 %</td> <td>208,635</td> <td>7</td> <td>2,699,700</td> <td>0</td> <td>3.0</td> <td>30</td> <td>57 %</td> <td>0.24 %</td> </tr> <tr> <td>67</td> <td style=\"font-weight: bold; font-size:15px; text-align:left\"><a href=\"/world-population/chad-population/\">Chad</a></td> <td style=\"font-weight: bold;\">18,278,568</td> <td>3.13 %</td> <td>555,253</td> <td>15</td> <td>1,259,200</td> <td>-2,000</td> <td>6.1</td> <td>15</td> <td>24 %</td> <td>0.23 %</td> </tr> <tr> <td>68</td> <td style=\"font-weight: bold; font-size:15px; text-align:left\"><a href=\"/world-population/ecuador-population/\">Ecuador</a></td> <td style=\"font-weight: bold;\">18,190,484</td> <td>1.05 %</td> <td>189,484</td> <td>73</td> <td>248,360</td> <td>-21,525</td> <td>2.0</td> <td>28</td> <td>64 %</td> <td>0.23 %</td> </tr> <tr> <td>69</td> <td style=\"font-weight: bold; font-size:15px; text-align:left\"><a href=\"/world-population/somalia-population/\">Somalia</a></td> <td style=\"font-weight: bold;\">18,143,378</td> <td>3.10 %</td> <td>545,867</td> <td>29</td> <td>627,340</td> <td>-30,000</td> <td>6.1</td> <td>15</td> <td>46 %</td> <td>0.23 %</td> </tr> <tr> <td>70</td> <td style=\"font-weight: bold; font-size:15px; text-align:left\"><a href=\"/world-population/guatemala-population/\">Guatemala</a></td> <td style=\"font-weight: bold;\">18,092,026</td> <td>1.39 %</td> <td>248,118</td> <td>169</td> <td>107,160</td> <td>-9,110</td> <td>2.3</td> <td>23</td> <td>55 %</td> <td>0.22 %</td> </tr> <tr> <td>71</td> <td style=\"font-weight: bold; font-size:15px; text-align:left\"><a href=\"/world-population/senegal-population/\">Senegal</a></td> <td style=\"font-weight: bold;\">17,763,163</td> <td>2.58 %</td> <td>446,714</td> <td>92</td> <td>192,530</td> <td>-19,999</td> <td>4.3</td> <td>18</td> <td>52 %</td> <td>0.22 %</td> </tr> <tr> <td>72</td> <td style=\"font-weight: bold; font-size:15px; text-align:left\"><a href=\"/world-population/netherlands-population/\">Netherlands</a></td> <td style=\"font-weight: bold;\">17,618,299</td> <td>0.31 %</td> <td>54,285</td> <td>522</td> <td>33,720</td> <td>29,998</td> <td>1.6</td> <td>42</td> <td>92 %</td> <td>0.22 %</td> </tr> <tr> <td>73</td> <td style=\"font-weight: bold; font-size:15px; text-align:left\"><a href=\"/world-population/cambodia-population/\">Cambodia</a></td> <td style=\"font-weight: bold;\">16,944,826</td> <td>1.06 %</td> <td>176,984</td> <td>96</td> <td>176,520</td> <td>-29,998</td> <td>2.3</td> <td>27</td> <td>26 %</td> <td>0.21 %</td> </tr> <tr> <td>74</td> <td style=\"font-weight: bold; font-size:15px; text-align:left\"><a href=\"/world-population/zimbabwe-population/\">Zimbabwe</a></td> <td style=\"font-weight: bold;\">16,665,409</td> <td>2.11 %</td> <td>344,872</td> <td>43</td> <td>386,850</td> <td>-9,999</td> <td>3.4</td> <td>18</td> <td>37 %</td> <td>0.21 %</td> </tr> <tr> <td>75</td> <td style=\"font-weight: bold; font-size:15px; text-align:left\"><a href=\"/world-population/guinea-population/\">Guinea</a></td> <td style=\"font-weight: bold;\">14,190,612</td> <td>2.39 %</td> <td>331,271</td> <td>58</td> <td>245,720</td> <td>-4,000</td> <td>4.2</td> <td>18</td> <td>40 %</td> <td>0.18 %</td> </tr> <tr> <td>76</td> <td style=\"font-weight: bold; font-size:15px; text-align:left\"><a href=\"/world-population/rwanda-population/\">Rwanda</a></td> <td style=\"font-weight: bold;\">14,094,683</td> <td>2.31 %</td> <td>317,985</td> <td>571</td> <td>24,670</td> <td>-8,999</td> <td>3.7</td> <td>19</td> <td>18 %</td> <td>0.18 %</td> </tr> <tr> <td>77</td> <td style=\"font-weight: bold; font-size:15px; text-align:left\"><a href=\"/world-population/benin-population/\">Benin</a></td> <td style=\"font-weight: bold;\">13,712,828</td> <td>2.70 %</td> <td>359,964</td> <td>122</td> <td>112,760</td> <td>-200</td> <td>4.8</td> <td>18</td> <td>48 %</td> <td>0.17 %</td> </tr> <tr> <td>78</td> <td style=\"font-weight: bold; font-size:15px; text-align:left\"><a href=\"/world-population/burundi-population/\">Burundi</a></td> <td style=\"font-weight: bold;\">13,238,559</td> <td>2.71 %</td> <td>348,983</td> <td>516</td> <td>25,680</td> <td>2,000</td> <td>4.9</td> <td>16</td> <td>15 %</td> <td>0.16 %</td> </tr> <tr> <td>79</td> <td style=\"font-weight: bold; font-size:15px; text-align:left\"><a href=\"/world-population/tunisia-population/\">Tunisia</a></td> <td style=\"font-weight: bold;\">12,458,223</td> <td>0.83 %</td> <td>102,106</td> <td>80</td> <td>155,360</td> <td>-4,000</td> <td>2.0</td> <td>32</td> <td>69 %</td> <td>0.15 %</td> </tr> <tr> <td>80</td> <td style=\"font-weight: bold; font-size:15px; text-align:left\"><a href=\"/world-population/bolivia-population/\">Bolivia</a></td> <td style=\"font-weight: bold;\">12,388,571</td> <td>1.35 %</td> <td>164,461</td> <td>11</td> <td>1,083,300</td> <td>-3,000</td> <td>2.5</td> <td>24</td> <td>69 %</td> <td>0.15 %</td> </tr> <tr> <td>81</td> <td style=\"font-weight: bold; font-size:15px; text-align:left\"><a href=\"/world-population/haiti-population/\">Haiti</a></td> <td style=\"font-weight: bold;\">11,724,763</td> <td>1.21 %</td> <td>139,767</td> <td>425</td> <td>27,560</td> <td>-31,811</td> <td>2.7</td> <td>23</td> <td>60 %</td> <td>0.15 %</td> </tr> <tr> <td>82</td> <td style=\"font-weight: bold; font-size:15px; text-align:left\"><a href=\"/world-population/belgium-population/\">Belgium</a></td> <td style=\"font-weight: bold;\">11,686,140</td> <td>0.26 %</td> <td>30,210</td> <td>386</td> <td>30,280</td> <td>23,999</td> <td>1.6</td> <td>41</td> <td>99 %</td> <td>0.15 %</td> </tr> <tr> <td>83</td> <td style=\"font-weight: bold; font-size:15px; text-align:left\"><a href=\"/world-population/jordan-population/\">Jordan</a></td> <td style=\"font-weight: bold;\">11,337,052</td> <td>0.45 %</td> <td>51,183</td> <td>128</td> <td>88,780</td> <td>-157,392</td> <td>2.7</td> <td>24</td> <td>85 %</td> <td>0.14 %</td> </tr> <tr> <td>84</td> <td style=\"font-weight: bold; font-size:15px; text-align:left\"><a href=\"/world-population/dominican-republic-population/\">Dominican Republic</a></td> <td style=\"font-weight: bold;\">11,332,972</td> <td>0.93 %</td> <td>104,151</td> <td>235</td> <td>48,320</td> <td>-29,099</td> <td>2.2</td> <td>28</td> <td>85 %</td> <td>0.14 %</td> </tr> <tr> <td>85</td> <td style=\"font-weight: bold; font-size:15px; text-align:left\"><a href=\"/world-population/cuba-population/\">Cuba</a></td> <td style=\"font-weight: bold;\">11,194,449</td> <td>-0.16 %</td> <td>-17,742</td> <td>105</td> <td>106,440</td> <td>-6,000</td> <td>1.5</td> <td>41</td> <td>80 %</td> <td>0.14 %</td> </tr> <tr> <td>86</td> <td style=\"font-weight: bold; font-size:15px; text-align:left\"><a href=\"/world-population/south-sudan-population/\">South Sudan</a></td> <td style=\"font-weight: bold;\">11,088,796</td> <td>1.61 %</td> <td>175,632</td> <td>18</td> <td>610,952</td> <td>-23,291</td> <td>4.3</td> <td>17</td> <td>28 %</td> <td>0.14 %</td> </tr> <tr> <td>87</td> <td style=\"font-weight: bold; font-size:15px; text-align:left\"><a href=\"/world-population/sweden-population/\">Sweden</a></td> <td style=\"font-weight: bold;\">10,612,086</td> <td>0.59 %</td> <td>62,739</td> <td>26</td> <td>410,340</td> <td>39,998</td> <td>1.7</td> <td>40</td> <td>86 %</td> <td>0.13 %</td> </tr> <tr> <td>88</td> <td style=\"font-weight: bold; font-size:15px; text-align:left\"><a href=\"/world-population/honduras-population/\">Honduras</a></td> <td style=\"font-weight: bold;\">10,593,798</td> <td>1.54 %</td> <td>160,938</td> <td>95</td> <td>111,890</td> <td>-5,034</td> <td>2.3</td> <td>24</td> <td>58 %</td> <td>0.13 %</td> </tr> <tr> <td>89</td> <td style=\"font-weight: bold; font-size:15px; text-align:left\"><a href=\"/world-population/czech-republic-population/\">Czech Republic (Czechia)</a></td> <td style=\"font-weight: bold;\">10,495,295</td> <td>0.01 %</td> <td>1,309</td> <td>136</td> <td>77,240</td> <td>22,011</td> <td>1.7</td> <td>43</td> <td>75 %</td> <td>0.13 %</td> </tr> <tr> <td>90</td> <td style=\"font-weight: bold; font-size:15px; text-align:left\"><a href=\"/world-population/azerbaijan-population/\">Azerbaijan</a></td> <td style=\"font-weight: bold;\">10,412,651</td> <td>0.53 %</td> <td>54,577</td> <td>126</td> <td>82,658</td> <td>0</td> <td>1.7</td> <td>32</td> <td>57 %</td> <td>0.13 %</td> </tr> <tr> <td>91</td> <td style=\"font-weight: bold; font-size:15px; text-align:left\"><a href=\"/world-population/greece-population/\">Greece</a></td> <td style=\"font-weight: bold;\">10,341,277</td> <td>-0.42 %</td> <td>-43,694</td> <td>80</td> <td>128,900</td> <td>5,000</td> <td>1.4</td> <td>45</td> <td>86 %</td> <td>0.13 %</td> </tr> <tr> <td>92</td> <td style=\"font-weight: bold; font-size:15px; text-align:left\"><a href=\"/world-population/papua-new-guinea-population/\">Papua New Guinea</a></td> <td style=\"font-weight: bold;\">10,329,931</td> <td>1.85 %</td> <td>187,312</td> <td>23</td> <td>452,860</td> <td>-800</td> <td>3.1</td> <td>22</td> <td>12 %</td> <td>0.13 %</td> </tr> <tr> <td>93</td> <td style=\"font-weight: bold; font-size:15px; text-align:left\"><a href=\"/world-population/portugal-population/\">Portugal</a></td> <td style=\"font-weight: bold;\">10,247,605</td> <td>-0.23 %</td> <td>-23,260</td> <td>112</td> <td>91,590</td> <td>9,999</td> <td>1.4</td> <td>46</td> <td>67 %</td> <td>0.13 %</td> </tr> <tr> <td>94</td> <td style=\"font-weight: bold; font-size:15px; text-align:left\"><a href=\"/world-population/hungary-population/\">Hungary</a></td> <td style=\"font-weight: bold;\">10,156,239</td> <td>1.90 %</td> <td>188,931</td> <td>112</td> <td>90,530</td> <td>-156,677</td> <td>1.6</td> <td>42</td> <td>68 %</td> <td>0.13 %</td> </tr> <tr> <td>95</td> <td style=\"font-weight: bold; font-size:15px; text-align:left\"><a href=\"/world-population/tajikistan-population/\">Tajikistan</a></td> <td style=\"font-weight: bold;\">10,143,543</td> <td>1.92 %</td> <td>190,756</td> <td>72</td> <td>139,960</td> <td>-19,999</td> <td>3.1</td> <td>22</td> <td>28 %</td> <td>0.13 %</td> </tr> <tr> <td>96</td> <td style=\"font-weight: bold; font-size:15px; text-align:left\"><a href=\"/world-population/united-arab-emirates-population/\">United Arab Emirates</a></td> <td style=\"font-weight: bold;\">9,516,871</td> <td>0.80 %</td> <td>75,742</td> <td>114</td> <td>83,600</td> <td>0</td> <td>1.4</td> <td>34</td> <td>94 %</td> <td>0.12 %</td> </tr> <tr> <td>97</td> <td style=\"font-weight: bold; font-size:15px; text-align:left\"><a href=\"/world-population/belarus-population/\">Belarus</a></td> <td style=\"font-weight: bold;\">9,498,238</td> <td>-0.39 %</td> <td>-36,716</td> <td>47</td> <td>202,910</td> <td>-4,282</td> <td>1.5</td> <td>41</td> <td>80 %</td> <td>0.12 %</td> </tr> <tr> <td>98</td> <td style=\"font-weight: bold; font-size:15px; text-align:left\"><a href=\"/world-population/israel-population/\">Israel</a></td> <td style=\"font-weight: bold;\">9,174,520</td> <td>1.51 %</td> <td>136,211</td> <td>424</td> <td>21,640</td> <td>9,999</td> <td>2.9</td> <td>29</td> <td>92 %</td> <td>0.11 %</td> </tr> <tr> <td>99</td> <td style=\"font-weight: bold; font-size:15px; text-align:left\"><a href=\"/world-population/togo-population/\">Togo</a></td> <td style=\"font-weight: bold;\">9,053,799</td> <td>2.32 %</td> <td>205,100</td> <td>166</td> <td>54,390</td> <td>-2,000</td> <td>4.1</td> <td>19</td> <td>44 %</td> <td>0.11 %</td> </tr> <tr> <td>100</td> <td style=\"font-weight: bold; font-size:15px; text-align:left\"><a href=\"/world-population/austria-population/\">Austria</a></td> <td style=\"font-weight: bold;\">8,958,960</td> <td>0.22 %</td> <td>19,343</td> <td>109</td> <td>82,409</td> <td>19,999</td> <td>1.5</td> <td>43</td> <td>59 %</td> <td>0.11 %</td> </tr> <tr> <td>101</td> <td style=\"font-weight: bold; font-size:15px; text-align:left\"><a href=\"/world-population/switzerland-population/\">Switzerland</a></td> <td style=\"font-weight: bold;\">8,796,669</td> <td>0.64 %</td> <td>56,197</td> <td>223</td> <td>39,516</td> <td>39,998</td> <td>1.5</td> <td>42</td> <td>75 %</td> <td>0.11 %</td> </tr> <tr> <td>102</td> <td style=\"font-weight: bold; font-size:15px; text-align:left\"><a href=\"/world-population/sierra-leone-population/\">Sierra Leone</a></td> <td style=\"font-weight: bold;\">8,791,092</td> <td>2.15 %</td> <td>185,374</td> <td>122</td> <td>72,180</td> <td>-4,000</td> <td>3.8</td> <td>19</td> <td>43 %</td> <td>0.11 %</td> </tr> <tr> <td>103</td> <td style=\"font-weight: bold; font-size:15px; text-align:left\"><a href=\"/world-population/laos-population/\">Laos</a></td> <td style=\"font-weight: bold;\">7,633,779</td> <td>1.39 %</td> <td>104,304</td> <td>33</td> <td>230,800</td> <td>-9,999</td> <td>2.4</td> <td>24</td> <td>37 %</td> <td>0.09 %</td> </tr> <tr> <td>104</td> <td style=\"font-weight: bold; font-size:15px; text-align:left\"><a href=\"/world-population/china-hong-kong-sar-population/\">Hong Kong</a></td> <td style=\"font-weight: bold;\">7,491,609</td> <td>0.04 %</td> <td>2,744</td> <td>7,135</td> <td>1,050</td> <td>19,999</td> <td>0.8</td> <td>46</td> <td>N.A.</td> <td>0.09 %</td> </tr> <tr> <td>105</td> <td style=\"font-weight: bold; font-size:15px; text-align:left\"><a href=\"/world-population/serbia-population/\">Serbia</a></td> <td style=\"font-weight: bold;\">7,149,077</td> <td>-1.00 %</td> <td>-72,288</td> <td>82</td> <td>87,460</td> <td>-9,999</td> <td>1.5</td> <td>43</td> <td>69 %</td> <td>0.09 %</td> </tr> <tr> <td>106</td> <td style=\"font-weight: bold; font-size:15px; text-align:left\"><a href=\"/world-population/nicaragua-population/\">Nicaragua</a></td> <td style=\"font-weight: bold;\">7,046,310</td> <td>1.41 %</td> <td>97,918</td> <td>59</td> <td>120,340</td> <td>-8,000</td> <td>2.3</td> <td>25</td> <td>56 %</td> <td>0.09 %</td> </tr> <tr> <td>107</td> <td style=\"font-weight: bold; font-size:15px; text-align:left\"><a href=\"/world-population/libya-population/\">Libya</a></td> <td style=\"font-weight: bold;\">6,888,388</td> <td>1.12 %</td> <td>76,047</td> <td>4</td> <td>1,759,540</td> <td>-2,000</td> <td>2.4</td> <td>27</td> <td>82 %</td> <td>0.09 %</td> </tr> <tr> <td>108</td> <td style=\"font-weight: bold; font-size:15px; text-align:left\"><a href=\"/world-population/paraguay-population/\">Paraguay</a></td> <td style=\"font-weight: bold;\">6,861,524</td> <td>1.19 %</td> <td>80,780</td> <td>17</td> <td>397,300</td> <td>-12,499</td> <td>2.4</td> <td>26</td> <td>67 %</td> <td>0.09 %</td> </tr> <tr> <td>109</td> <td style=\"font-weight: bold; font-size:15px; text-align:left\"><a href=\"/world-population/kyrgyzstan-population/\">Kyrgyzstan</a></td> <td style=\"font-weight: bold;\">6,735,347</td> <td>1.58 %</td> <td>104,724</td> <td>35</td> <td>191,800</td> <td>-9,999</td> <td>2.9</td> <td>24</td> <td>37 %</td> <td>0.08 %</td> </tr> <tr> <td>110</td> <td style=\"font-weight: bold; font-size:15px; text-align:left\"><a href=\"/world-population/bulgaria-population/\">Bulgaria</a></td> <td style=\"font-weight: bold;\">6,687,717</td> <td>-1.39 %</td> <td>-94,236</td> <td>62</td> <td>108,560</td> <td>-4,800</td> <td>1.6</td> <td>45</td> <td>78 %</td> <td>0.08 %</td> </tr> <tr> <td>111</td> <td style=\"font-weight: bold; font-size:15px; text-align:left\"><a href=\"/world-population/turkmenistan-population/\">Turkmenistan</a></td> <td style=\"font-weight: bold;\">6,516,100</td> <td>1.33 %</td> <td>85,330</td> <td>14</td> <td>469,930</td> <td>-4,000</td> <td>2.6</td> <td>26</td> <td>52 %</td> <td>0.08 %</td> </tr> <tr> <td>112</td> <td style=\"font-weight: bold; font-size:15px; text-align:left\"><a href=\"/world-population/el-salvador-population/\">El Salvador</a></td> <td style=\"font-weight: bold;\">6,364,943</td> <td>0.45 %</td> <td>28,551</td> <td>307</td> <td>20,720</td> <td>-23,249</td> <td>1.8</td> <td>27</td> <td>78 %</td> <td>0.08 %</td> </tr> <tr> <td>113</td> <td style=\"font-weight: bold; font-size:15px; text-align:left\"><a href=\"/world-population/congo-population/\">Congo</a></td> <td style=\"font-weight: bold;\">6,106,869</td> <td>2.29 %</td> <td>136,445</td> <td>18</td> <td>341,500</td> <td>-1,000</td> <td>4.0</td> <td>18</td> <td>70 %</td> <td>0.08 %</td> </tr> <tr> <td>114</td> <td style=\"font-weight: bold; font-size:15px; text-align:left\"><a href=\"/world-population/singapore-population/\">Singapore</a></td> <td style=\"font-weight: bold;\">6,014,723</td> <td>0.65 %</td> <td>39,034</td> <td>8,592</td> <td>700</td> <td>26,998</td> <td>1.0</td> <td>43</td> <td>N.A.</td> <td>0.07 %</td> </tr> <tr> <td>115</td> <td style=\"font-weight: bold; font-size:15px; text-align:left\"><a href=\"/world-population/denmark-population/\">Denmark</a></td> <td style=\"font-weight: bold;\">5,910,913</td> <td>0.49 %</td> <td>28,652</td> <td>139</td> <td>42,430</td> <td>19,999</td> <td>1.7</td> <td>41</td> <td>88 %</td> <td>0.07 %</td> </tr> <tr> <td>116</td> <td style=\"font-weight: bold; font-size:15px; text-align:left\"><a href=\"/world-population/slovakia-population/\">Slovakia</a></td> <td style=\"font-weight: bold;\">5,795,199</td> <td>2.69 %</td> <td>151,746</td> <td>121</td> <td>48,088</td> <td>-112,067</td> <td>1.6</td> <td>40</td> <td>51 %</td> <td>0.07 %</td> </tr> <tr> <td>117</td> <td style=\"font-weight: bold; font-size:15px; text-align:left\"><a href=\"/world-population/central-african-republic-population/\">Central African Republic</a></td> <td style=\"font-weight: bold;\">5,742,315</td> <td>2.92 %</td> <td>163,171</td> <td>9</td> <td>622,980</td> <td>-14,716</td> <td>5.8</td> <td>15</td> <td>40 %</td> <td>0.07 %</td> </tr> <tr> <td>118</td> <td style=\"font-weight: bold; font-size:15px; text-align:left\"><a href=\"/world-population/finland-population/\">Finland</a></td> <td style=\"font-weight: bold;\">5,545,475</td> <td>0.09 %</td> <td>4,730</td> <td>18</td> <td>303,890</td> <td>13,999</td> <td>1.4</td> <td>43</td> <td>87 %</td> <td>0.07 %</td> </tr> <tr> <td>119</td> <td style=\"font-weight: bold; font-size:15px; text-align:left\"><a href=\"/world-population/norway-population/\">Norway</a></td> <td style=\"font-weight: bold;\">5,474,360</td> <td>0.74 %</td> <td>40,041</td> <td>15</td> <td>365,268</td> <td>27,998</td> <td>1.5</td> <td>40</td> <td>86 %</td> <td>0.07 %</td> </tr> <tr> <td>120</td> <td style=\"font-weight: bold; font-size:15px; text-align:left\"><a href=\"/world-population/liberia-population/\">Liberia</a></td> <td style=\"font-weight: bold;\">5,418,377</td> <td>2.18 %</td> <td>115,696</td> <td>56</td> <td>96,320</td> <td>-5,000</td> <td>4.0</td> <td>18</td> <td>54 %</td> <td>0.07 %</td> </tr> <tr> <td>121</td> <td style=\"font-weight: bold; font-size:15px; text-align:left\"><a href=\"/world-population/state-of-palestine-population/\">State of Palestine</a></td> <td style=\"font-weight: bold;\">5,371,230</td> <td>2.31 %</td> <td>121,158</td> <td>892</td> <td>6,020</td> <td>-5,000</td> <td>3.4</td> <td>20</td> <td>83 %</td> <td>0.07 %</td> </tr> <tr> <td>122</td> <td style=\"font-weight: bold; font-size:15px; text-align:left\"><a href=\"/world-population/lebanon-population/\">Lebanon</a></td> <td style=\"font-weight: bold;\">5,353,930</td> <td>-2.47 %</td> <td>-135,809</td> <td>523</td> <td>10,230</td> <td>-177,331</td> <td>2.1</td> <td>29</td> <td>97 %</td> <td>0.07 %</td> </tr> <tr> <td>123</td> <td style=\"font-weight: bold; font-size:15px; text-align:left\"><a href=\"/world-population/new-zealand-population/\">New Zealand</a></td> <td style=\"font-weight: bold;\">5,228,100</td> <td>0.83 %</td> <td>42,812</td> <td>20</td> <td>263,310</td> <td>12,999</td> <td>1.8</td> <td>37</td> <td>82 %</td> <td>0.06 %</td> </tr> <tr> <td>124</td> <td style=\"font-weight: bold; font-size:15px; text-align:left\"><a href=\"/world-population/costa-rica-population/\">Costa Rica</a></td> <td style=\"font-weight: bold;\">5,212,173</td> <td>0.60 %</td> <td>31,344</td> <td>102</td> <td>51,060</td> <td>3,750</td> <td>1.5</td> <td>34</td> <td>82 %</td> <td>0.06 %</td> </tr> <tr> <td>125</td> <td style=\"font-weight: bold; font-size:15px; text-align:left\"><a href=\"/world-population/ireland-population/\">Ireland</a></td> <td style=\"font-weight: bold;\">5,056,935</td> <td>0.67 %</td> <td>33,826</td> <td>73</td> <td>68,890</td> <td>9,999</td> <td>1.8</td> <td>38</td> <td>64 %</td> <td>0.06 %</td> </tr> <tr> <td>126</td> <td style=\"font-weight: bold; font-size:15px; text-align:left\"><a href=\"/world-population/mauritania-population/\">Mauritania</a></td> <td style=\"font-weight: bold;\">4,862,989</td> <td>2.68 %</td> <td>126,850</td> <td>5</td> <td>1,030,700</td> <td>3,000</td> <td>4.3</td> <td>18</td> <td>61 %</td> <td>0.06 %</td> </tr> <tr> <td>127</td> <td style=\"font-weight: bold; font-size:15px; text-align:left\"><a href=\"/world-population/oman-population/\">Oman</a></td> <td style=\"font-weight: bold;\">4,644,384</td> <td>1.49 %</td> <td>68,086</td> <td>15</td> <td>309,500</td> <td>0</td> <td>2.5</td> <td>29</td> <td>N.A.</td> <td>0.06 %</td> </tr> <tr> <td>128</td> <td style=\"font-weight: bold; font-size:15px; text-align:left\"><a href=\"/world-population/panama-population/\">Panama</a></td> <td style=\"font-weight: bold;\">4,468,087</td> <td>1.35 %</td> <td>59,506</td> <td>60</td> <td>74,340</td> <td>7,262</td> <td>2.3</td> <td>29</td> <td>70 %</td> <td>0.06 %</td> </tr> <tr> <td>129</td> <td style=\"font-weight: bold; font-size:15px; text-align:left\"><a href=\"/world-population/kuwait-population/\">Kuwait</a></td> <td style=\"font-weight: bold;\">4,310,108</td> <td>0.97 %</td> <td>41,235</td> <td>242</td> <td>17,820</td> <td>11,999</td> <td>2.1</td> <td>40</td> <td>N.A.</td> <td>0.05 %</td> </tr> <tr> <td>130</td> <td style=\"font-weight: bold; font-size:15px; text-align:left\"><a href=\"/world-population/croatia-population/\">Croatia</a></td> <td style=\"font-weight: bold;\">4,008,617</td> <td>-0.54 %</td> <td>-21,741</td> <td>72</td> <td>55,960</td> <td>-2,000</td> <td>1.4</td> <td>44</td> <td>59 %</td> <td>0.05 %</td> </tr> <tr> <td>131</td> <td style=\"font-weight: bold; font-size:15px; text-align:left\"><a href=\"/world-population/eritrea-population/\">Eritrea</a></td> <td style=\"font-weight: bold;\">3,748,901</td> <td>1.76 %</td> <td>64,869</td> <td>37</td> <td>101,000</td> <td>-15,297</td> <td>3.7</td> <td>19</td> <td>67 %</td> <td>0.05 %</td> </tr> <tr> <td>132</td> <td style=\"font-weight: bold; font-size:15px; text-align:left\"><a href=\"/world-population/georgia-population/\">Georgia</a></td> <td style=\"font-weight: bold;\">3,728,282</td> <td>-0.43 %</td> <td>-16,103</td> <td>54</td> <td>69,490</td> <td>-9,999</td> <td>2.1</td> <td>37</td> <td>63 %</td> <td>0.05 %</td> </tr> <tr> <td>133</td> <td style=\"font-weight: bold; font-size:15px; text-align:left\"><a href=\"/world-population/mongolia-population/\">Mongolia</a></td> <td style=\"font-weight: bold;\">3,447,157</td> <td>1.44 %</td> <td>48,791</td> <td>2</td> <td>1,553,560</td> <td>-850</td> <td>2.7</td> <td>27</td> <td>67 %</td> <td>0.04 %</td> </tr> <tr> <td>134</td> <td style=\"font-weight: bold; font-size:15px; text-align:left\"><a href=\"/world-population/moldova-population/\">Moldova</a></td> <td style=\"font-weight: bold;\">3,435,931</td> <td>4.98 %</td> <td>162,935</td> <td>105</td> <td>32,850</td> <td>-125,204</td> <td>1.8</td> <td>35</td> <td>50 %</td> <td>0.04 %</td> </tr> <tr> <td>135</td> <td style=\"font-weight: bold; font-size:15px; text-align:left\"><a href=\"/world-population/uruguay-population/\">Uruguay</a></td> <td style=\"font-weight: bold;\">3,423,108</td> <td>0.01 %</td> <td>314</td> <td>20</td> <td>175,020</td> <td>-1,500</td> <td>1.5</td> <td>36</td> <td>99 %</td> <td>0.04 %</td> </tr> <tr> <td>136</td> <td style=\"font-weight: bold; font-size:15px; text-align:left\"><a href=\"/world-population/puerto-rico-population/\">Puerto Rico</a></td> <td style=\"font-weight: bold;\">3,260,314</td> <td>0.24 %</td> <td>7,907</td> <td>368</td> <td>8,870</td> <td>19,835</td> <td>1.3</td> <td>44</td> <td>N.A.</td> <td>0.04 %</td> </tr> <tr> <td>137</td> <td style=\"font-weight: bold; font-size:15px; text-align:left\"><a href=\"/world-population/bosnia-and-herzegovina-population/\">Bosnia and Herzegovina</a></td> <td style=\"font-weight: bold;\">3,210,847</td> <td>-0.70 %</td> <td>-22,679</td> <td>63</td> <td>51,000</td> <td>-500</td> <td>1.3</td> <td>42</td> <td>54 %</td> <td>0.04 %</td> </tr> <tr> <td>138</td> <td style=\"font-weight: bold; font-size:15px; text-align:left\"><a href=\"/world-population/albania-population/\">Albania</a></td> <td style=\"font-weight: bold;\">2,832,439</td> <td>-0.35 %</td> <td>-9,882</td> <td>103</td> <td>27,400</td> <td>-8,000</td> <td>1.4</td> <td>38</td> <td>67 %</td> <td>0.04 %</td> </tr> <tr> <td>139</td> <td style=\"font-weight: bold; font-size:15px; text-align:left\"><a href=\"/world-population/jamaica-population/\">Jamaica</a></td> <td style=\"font-weight: bold;\">2,825,544</td> <td>-0.06 %</td> <td>-1,833</td> <td>261</td> <td>10,830</td> <td>-10,999</td> <td>1.3</td> <td>32</td> <td>59 %</td> <td>0.04 %</td> </tr> <tr> <td>140</td> <td style=\"font-weight: bold; font-size:15px; text-align:left\"><a href=\"/world-population/armenia-population/\">Armenia</a></td> <td style=\"font-weight: bold;\">2,777,970</td> <td>-0.09 %</td> <td>-2,499</td> <td>98</td> <td>28,470</td> <td>-5,000</td> <td>1.6</td> <td>35</td> <td>67 %</td> <td>0.03 %</td> </tr> <tr> <td>141</td> <td style=\"font-weight: bold; font-size:15px; text-align:left\"><a href=\"/world-population/gambia-population/\">Gambia</a></td> <td style=\"font-weight: bold;\">2,773,168</td> <td>2.48 %</td> <td>67,176</td> <td>274</td> <td>10,120</td> <td>-3,000</td> <td>4.5</td> <td>17</td> <td>58 %</td> <td>0.03 %</td> </tr> <tr> <td>142</td> <td style=\"font-weight: bold; font-size:15px; text-align:left\"><a href=\"/world-population/lithuania-population/\">Lithuania</a></td> <td style=\"font-weight: bold;\">2,718,352</td> <td>-1.15 %</td> <td>-31,703</td> <td>43</td> <td>62,674</td> <td>-13,128</td> <td>1.6</td> <td>44</td> <td>71 %</td> <td>0.03 %</td> </tr> <tr> <td>143</td> <td style=\"font-weight: bold; font-size:15px; text-align:left\"><a href=\"/world-population/qatar-population/\">Qatar</a></td> <td style=\"font-weight: bold;\">2,716,391</td> <td>0.79 %</td> <td>21,269</td> <td>234</td> <td>11,610</td> <td>0</td> <td>1.8</td> <td>34</td> <td>N.A.</td> <td>0.03 %</td> </tr> <tr> <td>144</td> <td style=\"font-weight: bold; font-size:15px; text-align:left\"><a href=\"/world-population/botswana-population/\">Botswana</a></td> <td style=\"font-weight: bold;\">2,675,352</td> <td>1.71 %</td> <td>45,056</td> <td>5</td> <td>566,730</td> <td>3,000</td> <td>2.7</td> <td>24</td> <td>69 %</td> <td>0.03 %</td> </tr> <tr> <td>145</td> <td style=\"font-weight: bold; font-size:15px; text-align:left\"><a href=\"/world-population/namibia-population/\">Namibia</a></td> <td style=\"font-weight: bold;\">2,604,172</td> <td>1.45 %</td> <td>37,160</td> <td>3</td> <td>823,290</td> <td>-3,916</td> <td>3.2</td> <td>21</td> <td>60 %</td> <td>0.03 %</td> </tr> <tr> <td>146</td> <td style=\"font-weight: bold; font-size:15px; text-align:left\"><a href=\"/world-population/gabon-population/\">Gabon</a></td> <td style=\"font-weight: bold;\">2,436,566</td> <td>1.99 %</td> <td>47,574</td> <td>9</td> <td>257,670</td> <td>1,000</td> <td>3.4</td> <td>22</td> <td>85 %</td> <td>0.03 %</td> </tr> <tr> <td>147</td> <td style=\"font-weight: bold; font-size:15px; text-align:left\"><a href=\"/world-population/lesotho-population/\">Lesotho</a></td> <td style=\"font-weight: bold;\">2,330,318</td> <td>1.06 %</td> <td>24,493</td> <td>77</td> <td>30,360</td> <td>-4,000</td> <td>2.9</td> <td>22</td> <td>31 %</td> <td>0.03 %</td> </tr> <tr> <td>148</td> <td style=\"font-weight: bold; font-size:15px; text-align:left\"><a href=\"/world-population/guinea-bissau-population/\">Guinea-Bissau</a></td> <td style=\"font-weight: bold;\">2,150,842</td> <td>2.15 %</td> <td>45,276</td> <td>76</td> <td>28,120</td> <td>-1,400</td> <td>3.8</td> <td>19</td> <td>45 %</td> <td>0.03 %</td> </tr> <tr> <td>149</td> <td style=\"font-weight: bold; font-size:15px; text-align:left\"><a href=\"/world-population/slovenia-population/\">Slovenia</a></td> <td style=\"font-weight: bold;\">2,119,675</td> <td>-0.01 %</td> <td>-169</td> <td>105</td> <td>20,140</td> <td>2,000</td> <td>1.6</td> <td>44</td> <td>55 %</td> <td>0.03 %</td> </tr> <tr> <td>150</td> <td style=\"font-weight: bold; font-size:15px; text-align:left\"><a href=\"/world-population/macedonia-population/\">North Macedonia</a></td> <td style=\"font-weight: bold;\">2,085,679</td> <td>-0.38 %</td> <td>-7,920</td> <td>83</td> <td>25,220</td> <td>-1,000</td> <td>1.4</td> <td>39</td> <td>60 %</td> <td>0.03 %</td> </tr> <tr> <td>151</td> <td style=\"font-weight: bold; font-size:15px; text-align:left\"><a href=\"/world-population/latvia-population/\">Latvia</a></td> <td style=\"font-weight: bold;\">1,830,211</td> <td>-1.10 %</td> <td>-20,440</td> <td>29</td> <td>62,200</td> <td>-7,630</td> <td>1.6</td> <td>44</td> <td>69 %</td> <td>0.02 %</td> </tr> <tr> <td>152</td> <td style=\"font-weight: bold; font-size:15px; text-align:left\"><a href=\"/world-population/equatorial-guinea-population/\">Equatorial Guinea</a></td> <td style=\"font-weight: bold;\">1,714,671</td> <td>2.37 %</td> <td>39,763</td> <td>61</td> <td>28,050</td> <td>4,000</td> <td>4.1</td> <td>21</td> <td>67 %</td> <td>0.02 %</td> </tr> <tr> <td>153</td> <td style=\"font-weight: bold; font-size:15px; text-align:left\"><a href=\"/world-population/trinidad-and-tobago-population/\">Trinidad and Tobago</a></td> <td style=\"font-weight: bold;\">1,534,937</td> <td>0.25 %</td> <td>3,893</td> <td>299</td> <td>5,130</td> <td>-800</td> <td>1.6</td> <td>36</td> <td>48 %</td> <td>0.02 %</td> </tr> <tr> <td>154</td> <td style=\"font-weight: bold; font-size:15px; text-align:left\"><a href=\"/world-population/bahrain-population/\">Bahrain</a></td> <td style=\"font-weight: bold;\">1,485,509</td> <td>0.90 %</td> <td>13,276</td> <td>1,955</td> <td>760</td> <td>0</td> <td>1.8</td> <td>34</td> <td>N.A.</td> <td>0.02 %</td> </tr> <tr> <td>155</td> <td style=\"font-weight: bold; font-size:15px; text-align:left\"><a href=\"/world-population/timor-leste-population/\">Timor-Leste</a></td> <td style=\"font-weight: bold;\">1,360,596</td> <td>1.44 %</td> <td>19,300</td> <td>91</td> <td>14,870</td> <td>-5,000</td> <td>3.0</td> <td>21</td> <td>35 %</td> <td>0.02 %</td> </tr> <tr> <td>156</td> <td style=\"font-weight: bold; font-size:15px; text-align:left\"><a href=\"/world-population/estonia-population/\">Estonia</a></td> <td style=\"font-weight: bold;\">1,322,765</td> <td>-0.25 %</td> <td>-3,297</td> <td>31</td> <td>42,390</td> <td>-1,000</td> <td>1.7</td> <td>42</td> <td>68 %</td> <td>0.02 %</td> </tr> <tr> <td>157</td> <td style=\"font-weight: bold; font-size:15px; text-align:left\"><a href=\"/world-population/mauritius-population/\">Mauritius</a></td> <td style=\"font-weight: bold;\">1,300,557</td> <td>0.08 %</td> <td>1,088</td> <td>641</td> <td>2,030</td> <td>0</td> <td>1.4</td> <td>37</td> <td>40 %</td> <td>0.02 %</td> </tr> <tr> <td>158</td> <td style=\"font-weight: bold; font-size:15px; text-align:left\"><a href=\"/world-population/cyprus-population/\">Cyprus</a></td> <td style=\"font-weight: bold;\">1,260,138</td> <td>0.69 %</td> <td>8,650</td> <td>136</td> <td>9,240</td> <td>5,000</td> <td>1.3</td> <td>39</td> <td>65 %</td> <td>0.02 %</td> </tr> <tr> <td>159</td> <td style=\"font-weight: bold; font-size:15px; text-align:left\"><a href=\"/world-population/swaziland-population/\">Eswatini</a></td> <td style=\"font-weight: bold;\">1,210,822</td> <td>0.76 %</td> <td>9,152</td> <td>70</td> <td>17,200</td> <td>-5,268</td> <td>2.8</td> <td>22</td> <td>31 %</td> <td>0.02 %</td> </tr> <tr> <td>160</td> <td style=\"font-weight: bold; font-size:15px; text-align:left\"><a href=\"/world-population/djibouti-population/\">Djibouti</a></td> <td style=\"font-weight: bold;\">1,136,455</td> <td>1.39 %</td> <td>15,606</td> <td>49</td> <td>23,180</td> <td>900</td> <td>2.7</td> <td>24</td> <td>72 %</td> <td>0.01 %</td> </tr> <tr> <td>161</td> <td style=\"font-weight: bold; font-size:15px; text-align:left\"><a href=\"/world-population/reunion-population/\">Réunion</a></td> <td style=\"font-weight: bold;\">981,796</td> <td>0.80 %</td> <td>7,744</td> <td>393</td> <td>2,500</td> <td>-630</td> <td>2.2</td> <td>34</td> <td>93 %</td> <td>0.01 %</td> </tr> <tr> <td>162</td> <td style=\"font-weight: bold; font-size:15px; text-align:left\"><a href=\"/world-population/fiji-population/\">Fiji</a></td> <td style=\"font-weight: bold;\">936,375</td> <td>0.71 %</td> <td>6,609</td> <td>51</td> <td>18,270</td> <td>-3,289</td> <td>2.4</td> <td>27</td> <td>59 %</td> <td>0.01 %</td> </tr> <tr> <td>163</td> <td style=\"font-weight: bold; font-size:15px; text-align:left\"><a href=\"/world-population/comoros-population/\">Comoros</a></td> <td style=\"font-weight: bold;\">852,075</td> <td>1.83 %</td> <td>15,301</td> <td>458</td> <td>1,861</td> <td>-2,000</td> <td>3.8</td> <td>20</td> <td>33 %</td> <td>0.01 %</td> </tr> <tr> <td>164</td> <td style=\"font-weight: bold; font-size:15px; text-align:left\"><a href=\"/world-population/guyana-population/\">Guyana</a></td> <td style=\"font-weight: bold;\">813,834</td> <td>0.63 %</td> <td>5,108</td> <td>4</td> <td>196,850</td> <td>-3,900</td> <td>2.3</td> <td>26</td> <td>27 %</td> <td>0.01 %</td> </tr> <tr> <td>165</td> <td style=\"font-weight: bold; font-size:15px; text-align:left\"><a href=\"/world-population/bhutan-population/\">Bhutan</a></td> <td style=\"font-weight: bold;\">787,424</td> <td>0.64 %</td> <td>4,969</td> <td>21</td> <td>38,117</td> <td>300</td> <td>1.4</td> <td>29</td> <td>49 %</td> <td>0.01 %</td> </tr> <tr> <td>166</td> <td style=\"font-weight: bold; font-size:15px; text-align:left\"><a href=\"/world-population/solomon-islands-population/\">Solomon Islands</a></td> <td style=\"font-weight: bold;\">740,424</td> <td>2.23 %</td> <td>16,151</td> <td>26</td> <td>27,990</td> <td>-1,600</td> <td>3.9</td> <td>19</td> <td>24 %</td> <td>0.01 %</td> </tr> <tr> <td>167</td> <td style=\"font-weight: bold; font-size:15px; text-align:left\"><a href=\"/world-population/china-macao-sar-population/\">Macao</a></td> <td style=\"font-weight: bold;\">704,149</td> <td>1.29 %</td> <td>8,981</td> <td>23,472</td> <td>30</td> <td>5,000</td> <td>1.1</td> <td>39</td> <td>97 %</td> <td>0.01 %</td> </tr> <tr> <td>168</td> <td style=\"font-weight: bold; font-size:15px; text-align:left\"><a href=\"/world-population/luxembourg-population/\">Luxembourg</a></td> <td style=\"font-weight: bold;\">654,768</td> <td>1.11 %</td> <td>7,169</td> <td>253</td> <td>2,590</td> <td>4,883</td> <td>1.4</td> <td>39</td> <td>88 %</td> <td>0.01 %</td> </tr> <tr> <td>169</td> <td style=\"font-weight: bold; font-size:15px; text-align:left\"><a href=\"/world-population/montenegro-population/\">Montenegro</a></td> <td style=\"font-weight: bold;\">626,485</td> <td>-0.10 %</td> <td>-597</td> <td>47</td> <td>13,450</td> <td>-480</td> <td>1.7</td> <td>39</td> <td>69 %</td> <td>0.01 %</td> </tr> <tr> <td>170</td> <td style=\"font-weight: bold; font-size:15px; text-align:left\"><a href=\"/world-population/suriname-population/\">Suriname</a></td> <td style=\"font-weight: bold;\">623,236</td> <td>0.84 %</td> <td>5,196</td> <td>4</td> <td>156,000</td> <td>-1,000</td> <td>2.3</td> <td>28</td> <td>63 %</td> <td>0.01 %</td> </tr> <tr> <td>171</td> <td style=\"font-weight: bold; font-size:15px; text-align:left\"><a href=\"/world-population/cabo-verde-population/\">Cabo Verde</a></td> <td style=\"font-weight: bold;\">598,682</td> <td>0.93 %</td> <td>5,533</td> <td>149</td> <td>4,030</td> <td>-1,227</td> <td>1.9</td> <td>27</td> <td>67 %</td> <td>0.01 %</td> </tr> <tr> <td>172</td> <td style=\"font-weight: bold; font-size:15px; text-align:left\"><a href=\"/world-population/western-sahara-population/\">Western Sahara</a></td> <td style=\"font-weight: bold;\">587,259</td> <td>1.96 %</td> <td>11,273</td> <td>2</td> <td>266,000</td> <td>5,600</td> <td>2.2</td> <td>32</td> <td>95 %</td> <td>0.01 %</td> </tr> <tr> <td>173</td> <td style=\"font-weight: bold; font-size:15px; text-align:left\"><a href=\"/world-population/micronesia-population/\">Micronesia</a></td> <td style=\"font-weight: bold;\">544,321</td> <td>0.98 %</td> <td>5,308</td> <td>778</td> <td>700</td> <td>-1,642</td> <td>2.7</td> <td>26</td> <td>71 %</td> <td>0.01 %</td> </tr> <tr> <td>174</td> <td style=\"font-weight: bold; font-size:15px; text-align:left\"><a href=\"/world-population/malta-population/\">Malta</a></td> <td style=\"font-weight: bold;\">535,064</td> <td>0.33 %</td> <td>1,778</td> <td>1,672</td> <td>320</td> <td>850</td> <td>1.2</td> <td>40</td> <td>78 %</td> <td>0.01 %</td> </tr> <tr> <td>175</td> <td style=\"font-weight: bold; font-size:15px; text-align:left\"><a href=\"/world-population/maldives-population/\">Maldives</a></td> <td style=\"font-weight: bold;\">521,021</td> <td>-0.53 %</td> <td>-2,766</td> <td>1,737</td> <td>300</td> <td>-8,652</td> <td>1.7</td> <td>32</td> <td>39 %</td> <td>0.01 %</td> </tr> <tr> <td>176</td> <td style=\"font-weight: bold; font-size:15px; text-align:left\"><a href=\"/world-population/brunei-darussalam-population/\">Brunei </a></td> <td style=\"font-weight: bold;\">452,524</td> <td>0.78 %</td> <td>3,522</td> <td>86</td> <td>5,270</td> <td>0</td> <td>1.7</td> <td>33</td> <td>80 %</td> <td>0.01 %</td> </tr> <tr> <td>177</td> <td style=\"font-weight: bold; font-size:15px; text-align:left\"><a href=\"/world-population/bahamas-population/\">Bahamas</a></td> <td style=\"font-weight: bold;\">412,623</td> <td>0.64 %</td> <td>2,639</td> <td>41</td> <td>10,010</td> <td>1,000</td> <td>1.4</td> <td>33</td> <td>85 %</td> <td>0.01 %</td> </tr> <tr> <td>178</td> <td style=\"font-weight: bold; font-size:15px; text-align:left\"><a href=\"/world-population/belize-population/\">Belize</a></td> <td style=\"font-weight: bold;\">410,825</td> <td>1.37 %</td> <td>5,553</td> <td>18</td> <td>22,810</td> <td>600</td> <td>2.0</td> <td>26</td> <td>48 %</td> <td>0.01 %</td> </tr> <tr> <td>179</td> <td style=\"font-weight: bold; font-size:15px; text-align:left\"><a href=\"/world-population/guadeloupe-population/\">Guadeloupe</a></td> <td style=\"font-weight: bold;\">395,839</td> <td>0.02 %</td> <td>87</td> <td>234</td> <td>1,690</td> <td>-800</td> <td>2.0</td> <td>42</td> <td>N.A.</td> <td>0.00 %</td> </tr> <tr> <td>180</td> <td style=\"font-weight: bold; font-size:15px; text-align:left\"><a href=\"/world-population/iceland-population/\">Iceland</a></td> <td style=\"font-weight: bold;\">375,318</td> <td>0.65 %</td> <td>2,419</td> <td>4</td> <td>100,250</td> <td>380</td> <td>1.7</td> <td>36</td> <td>88 %</td> <td>0.00 %</td> </tr> <tr> <td>181</td> <td style=\"font-weight: bold; font-size:15px; text-align:left\"><a href=\"/world-population/martinique-population/\">Martinique</a></td> <td style=\"font-weight: bold;\">366,981</td> <td>-0.14 %</td> <td>-526</td> <td>346</td> <td>1,060</td> <td>-650</td> <td>1.9</td> <td>47</td> <td>94 %</td> <td>0.00 %</td> </tr> <tr> <td>182</td> <td style=\"font-weight: bold; font-size:15px; text-align:left\"><a href=\"/world-population/mayotte-population/\">Mayotte</a></td> <td style=\"font-weight: bold;\">335,995</td> <td>3.03 %</td> <td>9,894</td> <td>896</td> <td>375</td> <td>0</td> <td>4.3</td> <td>17</td> <td>40 %</td> <td>0.00 %</td> </tr> <tr> <td>183</td> <td style=\"font-weight: bold; font-size:15px; text-align:left\"><a href=\"/world-population/vanuatu-population/\">Vanuatu</a></td> <td style=\"font-weight: bold;\">334,506</td> <td>2.38 %</td> <td>7,766</td> <td>27</td> <td>12,190</td> <td>0</td> <td>3.7</td> <td>20</td> <td>24 %</td> <td>0.00 %</td> </tr> <tr> <td>184</td> <td style=\"font-weight: bold; font-size:15px; text-align:left\"><a href=\"/world-population/french-guiana-population/\">French Guiana</a></td> <td style=\"font-weight: bold;\">312,155</td> <td>2.49 %</td> <td>7,598</td> <td>4</td> <td>82,200</td> <td>1,200</td> <td>3.4</td> <td>24</td> <td>90 %</td> <td>0.00 %</td> </tr> <tr> <td>185</td> <td style=\"font-weight: bold; font-size:15px; text-align:left\"><a href=\"/world-population/french-polynesia-population/\">French Polynesia</a></td> <td style=\"font-weight: bold;\">308,872</td> <td>0.85 %</td> <td>2,593</td> <td>84</td> <td>3,660</td> <td>-100</td> <td>1.7</td> <td>34</td> <td>59 %</td> <td>0.00 %</td> </tr> <tr> <td>186</td> <td style=\"font-weight: bold; font-size:15px; text-align:left\"><a href=\"/world-population/new-caledonia-population/\">New Caledonia</a></td> <td style=\"font-weight: bold;\">292,991</td> <td>1.05 %</td> <td>3,041</td> <td>16</td> <td>18,280</td> <td>500</td> <td>2.0</td> <td>34</td> <td>74 %</td> <td>0.00 %</td> </tr> <tr> <td>187</td> <td style=\"font-weight: bold; font-size:15px; text-align:left\"><a href=\"/world-population/barbados-population/\">Barbados</a></td> <td style=\"font-weight: bold;\">281,995</td> <td>0.13 %</td> <td>360</td> <td>656</td> <td>430</td> <td>-80</td> <td>1.6</td> <td>40</td> <td>32 %</td> <td>0.00 %</td> </tr> <tr> <td>188</td> <td style=\"font-weight: bold; font-size:15px; text-align:left\"><a href=\"/world-population/sao-tome-and-principe-population/\">Sao Tome &amp; Principe</a></td> <td style=\"font-weight: bold;\">231,856</td> <td>1.97 %</td> <td>4,476</td> <td>242</td> <td>960</td> <td>-600</td> <td>3.7</td> <td>19</td> <td>77 %</td> <td>0.00 %</td> </tr> <tr> <td>189</td> <td style=\"font-weight: bold; font-size:15px; text-align:left\"><a href=\"/world-population/samoa-population/\">Samoa</a></td> <td style=\"font-weight: bold;\">225,681</td> <td>1.48 %</td> <td>3,299</td> <td>80</td> <td>2,830</td> <td>-1,500</td> <td>3.8</td> <td>21</td> <td>16 %</td> <td>0.00 %</td> </tr> <tr> <td>190</td> <td style=\"font-weight: bold; font-size:15px; text-align:left\"><a href=\"/world-population/curacao-population/\">Curaçao</a></td> <td style=\"font-weight: bold;\">192,077</td> <td>0.48 %</td> <td>914</td> <td>433</td> <td>444</td> <td>515</td> <td>1.6</td> <td>36</td> <td>77 %</td> <td>0.00 %</td> </tr> <tr> <td>191</td> <td style=\"font-weight: bold; font-size:15px; text-align:left\"><a href=\"/world-population/saint-lucia-population/\">Saint Lucia</a></td> <td style=\"font-weight: bold;\">180,251</td> <td>0.22 %</td> <td>394</td> <td>295</td> <td>610</td> <td>0</td> <td>1.4</td> <td>34</td> <td>19 %</td> <td>0.00 %</td> </tr> <tr> <td>192</td> <td style=\"font-weight: bold; font-size:15px; text-align:left\"><a href=\"/world-population/guam-population/\">Guam</a></td> <td style=\"font-weight: bold;\">172,952</td> <td>0.69 %</td> <td>1,178</td> <td>320</td> <td>540</td> <td>-500</td> <td>2.5</td> <td>30</td> <td>95 %</td> <td>0.00 %</td> </tr> <tr> <td>193</td> <td style=\"font-weight: bold; font-size:15px; text-align:left\"><a href=\"/world-population/kiribati-population/\">Kiribati</a></td> <td style=\"font-weight: bold;\">133,515</td> <td>1.74 %</td> <td>2,283</td> <td>165</td> <td>810</td> <td>-400</td> <td>3.2</td> <td>22</td> <td>56 %</td> <td>0.00 %</td> </tr> <tr> <td>194</td> <td style=\"font-weight: bold; font-size:15px; text-align:left\"><a href=\"/world-population/grenada-population/\">Grenada</a></td> <td style=\"font-weight: bold;\">126,183</td> <td>0.59 %</td> <td>745</td> <td>371</td> <td>340</td> <td>-200</td> <td>2.0</td> <td>32</td> <td>32 %</td> <td>0.00 %</td> </tr> <tr> <td>195</td> <td style=\"font-weight: bold; font-size:15px; text-align:left\"><a href=\"/world-population/tonga-population/\">Tonga</a></td> <td style=\"font-weight: bold;\">107,773</td> <td>0.86 %</td> <td>915</td> <td>150</td> <td>720</td> <td>-800</td> <td>3.2</td> <td>22</td> <td>24 %</td> <td>0.00 %</td> </tr> <tr> <td>196</td> <td style=\"font-weight: bold; font-size:15px; text-align:left\"><a href=\"/world-population/seychelles-population/\">Seychelles</a></td> <td style=\"font-weight: bold;\">107,660</td> <td>0.51 %</td> <td>542</td> <td>234</td> <td>460</td> <td>-200</td> <td>2.3</td> <td>33</td> <td>53 %</td> <td>0.00 %</td> </tr> <tr> <td>197</td> <td style=\"font-weight: bold; font-size:15px; text-align:left\"><a href=\"/world-population/aruba-population/\">Aruba</a></td> <td style=\"font-weight: bold;\">106,277</td> <td>-0.16 %</td> <td>-168</td> <td>590</td> <td>180</td> <td>157</td> <td>1.2</td> <td>42</td> <td>45 %</td> <td>0.00 %</td> </tr> <tr> <td>198</td> <td style=\"font-weight: bold; font-size:15px; text-align:left\"><a href=\"/world-population/saint-vincent-and-the-grenadines-population/\">St. Vincent &amp; Grenadines</a></td> <td style=\"font-weight: bold;\">103,698</td> <td>-0.24 %</td> <td>-250</td> <td>266</td> <td>390</td> <td>-200</td> <td>1.8</td> <td>33</td> <td>58 %</td> <td>0.00 %</td> </tr> <tr> <td>199</td> <td style=\"font-weight: bold; font-size:15px; text-align:left\"><a href=\"/world-population/united-states-virgin-islands-population/\">U.S. Virgin Islands</a></td> <td style=\"font-weight: bold;\">98,750</td> <td>-0.72 %</td> <td>-715</td> <td>282</td> <td>350</td> <td>-450</td> <td>2.1</td> <td>43</td> <td>N.A.</td> <td>0.00 %</td> </tr> <tr> <td>200</td> <td style=\"font-weight: bold; font-size:15px; text-align:left\"><a href=\"/world-population/antigua-and-barbuda-population/\">Antigua and Barbuda</a></td> <td style=\"font-weight: bold;\">94,298</td> <td>0.57 %</td> <td>535</td> <td>214</td> <td>440</td> <td>0</td> <td>1.6</td> <td>36</td> <td>28 %</td> <td>0.00 %</td> </tr> <tr> <td>201</td> <td style=\"font-weight: bold; font-size:15px; text-align:left\"><a href=\"/world-population/isle-of-man-population/\">Isle of Man</a></td> <td style=\"font-weight: bold;\">84,710</td> <td>0.23 %</td> <td>191</td> <td>149</td> <td>570</td> <td>340</td> <td>1.6</td> <td>46</td> <td>55 %</td> <td>0.00 %</td> </tr> <tr> <td>202</td> <td style=\"font-weight: bold; font-size:15px; text-align:left\"><a href=\"/world-population/andorra-population/\">Andorra</a></td> <td style=\"font-weight: bold;\">80,088</td> <td>0.33 %</td> <td>264</td> <td>170</td> <td>470</td> <td>200</td> <td>1.1</td> <td>43</td> <td>85 %</td> <td>0.00 %</td> </tr> <tr> <td>203</td> <td style=\"font-weight: bold; font-size:15px; text-align:left\"><a href=\"/world-population/dominica-population/\">Dominica</a></td> <td style=\"font-weight: bold;\">73,040</td> <td>0.42 %</td> <td>303</td> <td>97</td> <td>750</td> <td>-40</td> <td>1.6</td> <td>32</td> <td>75 %</td> <td>0.00 %</td> </tr> <tr> <td>204</td> <td style=\"font-weight: bold; font-size:15px; text-align:left\"><a href=\"/world-population/cayman-islands-population/\">Cayman Islands</a></td> <td style=\"font-weight: bold;\">69,310</td> <td>0.88 %</td> <td>604</td> <td>289</td> <td>240</td> <td>400</td> <td>1.2</td> <td>38</td> <td>95 %</td> <td>0.00 %</td> </tr> <tr> <td>205</td> <td style=\"font-weight: bold; font-size:15px; text-align:left\"><a href=\"/world-population/bermuda-population/\">Bermuda</a></td> <td style=\"font-weight: bold;\">64,069</td> <td>-0.18 %</td> <td>-115</td> <td>1,281</td> <td>50</td> <td>0</td> <td>1.4</td> <td>46</td> <td>94 %</td> <td>0.00 %</td> </tr> <tr> <td>206</td> <td style=\"font-weight: bold; font-size:15px; text-align:left\"><a href=\"/world-population/greenland-population/\">Greenland</a></td> <td style=\"font-weight: bold;\">56,643</td> <td>0.31 %</td> <td>177</td> <td>0</td> <td>410,450</td> <td>-100</td> <td>1.9</td> <td>35</td> <td>89 %</td> <td>0.00 %</td> </tr> <tr> <td>207</td> <td style=\"font-weight: bold; font-size:15px; text-align:left\"><a href=\"/world-population/faeroe-islands-population/\">Faeroe Islands</a></td> <td style=\"font-weight: bold;\">53,270</td> <td>0.34 %</td> <td>180</td> <td>38</td> <td>1,396</td> <td>0</td> <td>2.7</td> <td>38</td> <td>41 %</td> <td>0.00 %</td> </tr> <tr> <td>208</td> <td style=\"font-weight: bold; font-size:15px; text-align:left\"><a href=\"/world-population/northern-mariana-islands-population/\">Northern Mariana Islands</a></td> <td style=\"font-weight: bold;\">49,796</td> <td>0.49 %</td> <td>245</td> <td>108</td> <td>460</td> <td>-50</td> <td>2.1</td> <td>38</td> <td>N.A.</td> <td>0.00 %</td> </tr> <tr> <td>209</td> <td style=\"font-weight: bold; font-size:15px; text-align:left\"><a href=\"/world-population/saint-kitts-and-nevis-population/\">Saint Kitts &amp; Nevis</a></td> <td style=\"font-weight: bold;\">47,755</td> <td>0.21 %</td> <td>98</td> <td>184</td> <td>260</td> <td>20</td> <td>1.5</td> <td>35</td> <td>38 %</td> <td>0.00 %</td> </tr> <tr> <td>210</td> <td style=\"font-weight: bold; font-size:15px; text-align:left\"><a href=\"/world-population/turks-and-caicos-islands-population/\">Turks and Caicos</a></td> <td style=\"font-weight: bold;\">46,062</td> <td>0.79 %</td> <td>359</td> <td>48</td> <td>950</td> <td>200</td> <td>1.6</td> <td>38</td> <td>79 %</td> <td>0.00 %</td> </tr> <tr> <td>211</td> <td style=\"font-weight: bold; font-size:15px; text-align:left\"><a href=\"/world-population/sint-maarten-population/\">Sint Maarten</a></td> <td style=\"font-weight: bold;\">44,222</td> <td>0.11 %</td> <td>47</td> <td>1,301</td> <td>34</td> <td>0</td> <td>1.6</td> <td>48</td> <td>97 %</td> <td>0.00 %</td> </tr> <tr> <td>212</td> <td style=\"font-weight: bold; font-size:15px; text-align:left\"><a href=\"/world-population/american-samoa-population/\">American Samoa</a></td> <td style=\"font-weight: bold;\">43,914</td> <td>-0.81 %</td> <td>-359</td> <td>220</td> <td>200</td> <td>-790</td> <td>2.2</td> <td>29</td> <td>N.A.</td> <td>0.00 %</td> </tr> <tr> <td>213</td> <td style=\"font-weight: bold; font-size:15px; text-align:left\"><a href=\"/world-population/marshall-islands-population/\">Marshall Islands</a></td> <td style=\"font-weight: bold;\">41,996</td> <td>1.03 %</td> <td>427</td> <td>233</td> <td>180</td> <td>0</td> <td>2.6</td> <td>26</td> <td>N.A.</td> <td>0.00 %</td> </tr> <tr> <td>214</td> <td style=\"font-weight: bold; font-size:15px; text-align:left\"><a href=\"/world-population/liechtenstein-population/\">Liechtenstein</a></td> <td style=\"font-weight: bold;\">39,584</td> <td>0.65 %</td> <td>257</td> <td>247</td> <td>160</td> <td>150</td> <td>1.5</td> <td>44</td> <td>15 %</td> <td>0.00 %</td> </tr> <tr> <td>215</td> <td style=\"font-weight: bold; font-size:15px; text-align:left\"><a href=\"/world-population/monaco-population/\">Monaco</a></td> <td style=\"font-weight: bold;\">36,297</td> <td>-0.47 %</td> <td>-172</td> <td>24,360</td> <td>1</td> <td>200</td> <td>2.1</td> <td>54</td> <td>N.A.</td> <td>0.00 %</td> </tr> <tr> <td>216</td> <td style=\"font-weight: bold; font-size:15px; text-align:left\"><a href=\"/world-population/san-marino-population/\">San Marino</a></td> <td style=\"font-weight: bold;\">33,642</td> <td>-0.05 %</td> <td>-18</td> <td>561</td> <td>60</td> <td>100</td> <td>1.1</td> <td>47</td> <td>99 %</td> <td>0.00 %</td> </tr> <tr> <td>217</td> <td style=\"font-weight: bold; font-size:15px; text-align:left\"><a href=\"/world-population/gibraltar-population/\">Gibraltar</a></td> <td style=\"font-weight: bold;\">32,688</td> <td>0.12 %</td> <td>39</td> <td>3,269</td> <td>10</td> <td>-24</td> <td>1.8</td> <td>42</td> <td>N.A.</td> <td>0.00 %</td> </tr> <tr> <td>218</td> <td style=\"font-weight: bold; font-size:15px; text-align:left\"><a href=\"/world-population/saint-martin-population/\">Saint Martin</a></td> <td style=\"font-weight: bold;\">32,077</td> <td>0.90 %</td> <td>286</td> <td>605</td> <td>53</td> <td>0</td> <td>2.4</td> <td>39</td> <td>0 %</td> <td>0.00 %</td> </tr> <tr> <td>219</td> <td style=\"font-weight: bold; font-size:15px; text-align:left\"><a href=\"/world-population/british-virgin-islands-population/\">British Virgin Islands</a></td> <td style=\"font-weight: bold;\">31,538</td> <td>0.74 %</td> <td>233</td> <td>210</td> <td>150</td> <td>200</td> <td>1.0</td> <td>39</td> <td>53 %</td> <td>0.00 %</td> </tr> <tr> <td>220</td> <td style=\"font-weight: bold; font-size:15px; text-align:left\"><a href=\"/world-population/caribbean-netherlands-population/\">Caribbean Netherlands</a></td> <td style=\"font-weight: bold;\">27,148</td> <td>0.45 %</td> <td>122</td> <td>83</td> <td>328</td> <td>100</td> <td>1.6</td> <td>40</td> <td>74 %</td> <td>0.00 %</td> </tr> <tr> <td>221</td> <td style=\"font-weight: bold; font-size:15px; text-align:left\"><a href=\"/world-population/palau-population/\">Palau</a></td> <td style=\"font-weight: bold;\">18,058</td> <td>0.02 %</td> <td>3</td> <td>39</td> <td>460</td> <td>-20</td> <td>2.3</td> <td>36</td> <td>N.A.</td> <td>0.00 %</td> </tr> <tr> <td>222</td> <td style=\"font-weight: bold; font-size:15px; text-align:left\"><a href=\"/world-population/cook-islands-population/\">Cook Islands</a></td> <td style=\"font-weight: bold;\">17,044</td> <td>0.19 %</td> <td>33</td> <td>71</td> <td>240</td> <td>-93</td> <td>2.2</td> <td>33</td> <td>79 %</td> <td>0.00 %</td> </tr> <tr> <td>223</td> <td style=\"font-weight: bold; font-size:15px; text-align:left\"><a href=\"/world-population/anguilla-population/\">Anguilla</a></td> <td style=\"font-weight: bold;\">15,899</td> <td>0.26 %</td> <td>42</td> <td>177</td> <td>90</td> <td>0</td> <td>1.3</td> <td>38</td> <td>98 %</td> <td>0.00 %</td> </tr> <tr> <td>224</td> <td style=\"font-weight: bold; font-size:15px; text-align:left\"><a href=\"/world-population/nauru-population/\">Nauru</a></td> <td style=\"font-weight: bold;\">12,780</td> <td>0.88 %</td> <td>112</td> <td>639</td> <td>20</td> <td>-140</td> <td>3.4</td> <td>20</td> <td>88 %</td> <td>0.00 %</td> </tr> <tr> <td>225</td> <td style=\"font-weight: bold; font-size:15px; text-align:left\"><a href=\"/world-population/wallis-and-futuna-islands-population/\">Wallis &amp; Futuna</a></td> <td style=\"font-weight: bold;\">11,502</td> <td>-0.60 %</td> <td>-70</td> <td>82</td> <td>140</td> <td>-119</td> <td>1.9</td> <td>37</td> <td>0 %</td> <td>0.00 %</td> </tr> <tr> <td>226</td> <td style=\"font-weight: bold; font-size:15px; text-align:left\"><a href=\"/world-population/tuvalu-population/\">Tuvalu</a></td> <td style=\"font-weight: bold;\">11,396</td> <td>0.74 %</td> <td>84</td> <td>380</td> <td>30</td> <td>-60</td> <td>3.1</td> <td>25</td> <td>69 %</td> <td>0.00 %</td> </tr> <tr> <td>227</td> <td style=\"font-weight: bold; font-size:15px; text-align:left\"><a href=\"/world-population/saint-barthelemy-population/\">Saint Barthelemy</a></td> <td style=\"font-weight: bold;\">10,994</td> <td>0.25 %</td> <td>27</td> <td>524</td> <td>21</td> <td>0</td> <td>1.0</td> <td>40</td> <td>0 %</td> <td>0.00 %</td> </tr> <tr> <td>228</td> <td style=\"font-weight: bold; font-size:15px; text-align:left\"><a href=\"/world-population/saint-pierre-and-miquelon-population/\">Saint Pierre &amp; Miquelon</a></td> <td style=\"font-weight: bold;\">5,840</td> <td>-0.38 %</td> <td>-22</td> <td>25</td> <td>230</td> <td>0</td> <td>1.6</td> <td>44</td> <td>N.A.</td> <td>0.00 %</td> </tr> <tr> <td>229</td> <td style=\"font-weight: bold; font-size:15px; text-align:left\"><a href=\"/world-population/saint-helena-population/\">Saint Helena</a></td> <td style=\"font-weight: bold;\">5,314</td> <td>-1.12 %</td> <td>-60</td> <td>14</td> <td>390</td> <td>0</td> <td>1.6</td> <td>53</td> <td>32 %</td> <td>0.00 %</td> </tr> <tr> <td>230</td> <td style=\"font-weight: bold; font-size:15px; text-align:left\"><a href=\"/world-population/montserrat-population/\">Montserrat</a></td> <td style=\"font-weight: bold;\">4,386</td> <td>-0.09 %</td> <td>-4</td> <td>44</td> <td>100</td> <td>0</td> <td>1.6</td> <td>44</td> <td>11 %</td> <td>0.00 %</td> </tr> <tr> <td>231</td> <td style=\"font-weight: bold; font-size:15px; text-align:left\"><a href=\"/world-population/falkland-islands-malvinas-population/\">Falkland Islands</a></td> <td style=\"font-weight: bold;\">3,791</td> <td>0.29 %</td> <td>11</td> <td>0</td> <td>12,170</td> <td>0</td> <td>1.6</td> <td>40</td> <td>62 %</td> <td>0.00 %</td> </tr> <tr> <td>232</td> <td style=\"font-weight: bold; font-size:15px; text-align:left\"><a href=\"/world-population/niue-population/\">Niue</a></td> <td style=\"font-weight: bold;\">1,935</td> <td>0.05 %</td> <td>1</td> <td>7</td> <td>260</td> <td>0</td> <td>2.4</td> <td>36</td> <td>41 %</td> <td>0.00 %</td> </tr> <tr> <td>233</td> <td style=\"font-weight: bold; font-size:15px; text-align:left\"><a href=\"/world-population/tokelau-population/\">Tokelau</a></td> <td style=\"font-weight: bold;\">1,893</td> <td>1.18 %</td> <td>22</td> <td>189</td> <td>10</td> <td>0</td> <td>2.6</td> <td>27</td> <td>0 %</td> <td>0.00 %</td> </tr> <tr> <td>234</td> <td style=\"font-weight: bold; font-size:15px; text-align:left\"><a href=\"/world-population/holy-see-population/\">Holy See</a></td> <td style=\"font-weight: bold;\">518</td> <td>1.57 %</td> <td>8</td> <td>1,295</td> <td>0</td> <td>0</td> <td></td> <td></td> <td>N.A.</td> <td>0.00 %</td> </tr> </tbody></table>\n"
     ]
    },
    {
     "name": "stderr",
     "output_type": "stream",
     "text": [
      "C:\\Users\\cristian.sanchezp\\AppData\\Local\\Temp\\ipykernel_13076\\2770400282.py:9: FutureWarning: Passing literal html to 'read_html' is deprecated and will be removed in a future version. To read from a literal string, wrap it in a 'StringIO' object.\n",
      "  df_population = pd.read_html(str(data))[0]\n"
     ]
    }
   ],
   "source": [
    "url = \"https://www.worldometers.info/world-population/population-by-country/\"\n",
    "\n",
    "req = requests.get(url)\n",
    "soup = BeautifulSoup(req.text)\n",
    "data = soup.find_all(\"table\")[0]\n",
    "\n",
    "print(data)\n",
    "\n",
    "df_population = pd.read_html(str(data))[0]\n"
   ]
  },
  {
   "cell_type": "code",
   "execution_count": 3,
   "metadata": {},
   "outputs": [
    {
     "data": {
      "text/html": [
       "<div>\n",
       "<style scoped>\n",
       "    .dataframe tbody tr th:only-of-type {\n",
       "        vertical-align: middle;\n",
       "    }\n",
       "\n",
       "    .dataframe tbody tr th {\n",
       "        vertical-align: top;\n",
       "    }\n",
       "\n",
       "    .dataframe thead th {\n",
       "        text-align: right;\n",
       "    }\n",
       "</style>\n",
       "<table border=\"1\" class=\"dataframe\">\n",
       "  <thead>\n",
       "    <tr style=\"text-align: right;\">\n",
       "      <th></th>\n",
       "      <th>#</th>\n",
       "      <th>Country (or dependency)</th>\n",
       "      <th>Population  (2023)</th>\n",
       "      <th>Yearly  Change</th>\n",
       "      <th>Net  Change</th>\n",
       "      <th>Density  (P/Km²)</th>\n",
       "      <th>Land Area  (Km²)</th>\n",
       "      <th>Migrants  (net)</th>\n",
       "      <th>Fert.  Rate</th>\n",
       "      <th>Med.  Age</th>\n",
       "      <th>Urban  Pop %</th>\n",
       "      <th>World  Share</th>\n",
       "    </tr>\n",
       "  </thead>\n",
       "  <tbody>\n",
       "    <tr>\n",
       "      <th>0</th>\n",
       "      <td>1</td>\n",
       "      <td>India</td>\n",
       "      <td>1428627663</td>\n",
       "      <td>0.81 %</td>\n",
       "      <td>11454490</td>\n",
       "      <td>481</td>\n",
       "      <td>2973190</td>\n",
       "      <td>-486136</td>\n",
       "      <td>2.0</td>\n",
       "      <td>28.0</td>\n",
       "      <td>36 %</td>\n",
       "      <td>17.76 %</td>\n",
       "    </tr>\n",
       "    <tr>\n",
       "      <th>1</th>\n",
       "      <td>2</td>\n",
       "      <td>China</td>\n",
       "      <td>1425671352</td>\n",
       "      <td>-0.02 %</td>\n",
       "      <td>-215985</td>\n",
       "      <td>152</td>\n",
       "      <td>9388211</td>\n",
       "      <td>-310220</td>\n",
       "      <td>1.2</td>\n",
       "      <td>39.0</td>\n",
       "      <td>65 %</td>\n",
       "      <td>17.72 %</td>\n",
       "    </tr>\n",
       "    <tr>\n",
       "      <th>2</th>\n",
       "      <td>3</td>\n",
       "      <td>United States</td>\n",
       "      <td>339996563</td>\n",
       "      <td>0.50 %</td>\n",
       "      <td>1706706</td>\n",
       "      <td>37</td>\n",
       "      <td>9147420</td>\n",
       "      <td>999700</td>\n",
       "      <td>1.7</td>\n",
       "      <td>38.0</td>\n",
       "      <td>83 %</td>\n",
       "      <td>4.23 %</td>\n",
       "    </tr>\n",
       "    <tr>\n",
       "      <th>3</th>\n",
       "      <td>4</td>\n",
       "      <td>Indonesia</td>\n",
       "      <td>277534122</td>\n",
       "      <td>0.74 %</td>\n",
       "      <td>2032783</td>\n",
       "      <td>153</td>\n",
       "      <td>1811570</td>\n",
       "      <td>-49997</td>\n",
       "      <td>2.1</td>\n",
       "      <td>30.0</td>\n",
       "      <td>59 %</td>\n",
       "      <td>3.45 %</td>\n",
       "    </tr>\n",
       "    <tr>\n",
       "      <th>4</th>\n",
       "      <td>5</td>\n",
       "      <td>Pakistan</td>\n",
       "      <td>240485658</td>\n",
       "      <td>1.98 %</td>\n",
       "      <td>4660796</td>\n",
       "      <td>312</td>\n",
       "      <td>770880</td>\n",
       "      <td>-165988</td>\n",
       "      <td>3.3</td>\n",
       "      <td>21.0</td>\n",
       "      <td>35 %</td>\n",
       "      <td>2.99 %</td>\n",
       "    </tr>\n",
       "  </tbody>\n",
       "</table>\n",
       "</div>"
      ],
      "text/plain": [
       "   # Country (or dependency)  Population  (2023) Yearly  Change  Net  Change  \\\n",
       "0  1                   India          1428627663         0.81 %     11454490   \n",
       "1  2                   China          1425671352        -0.02 %      -215985   \n",
       "2  3           United States           339996563         0.50 %      1706706   \n",
       "3  4               Indonesia           277534122         0.74 %      2032783   \n",
       "4  5                Pakistan           240485658         1.98 %      4660796   \n",
       "\n",
       "   Density  (P/Km²)  Land Area  (Km²)  Migrants  (net)  Fert.  Rate  \\\n",
       "0               481           2973190          -486136          2.0   \n",
       "1               152           9388211          -310220          1.2   \n",
       "2                37           9147420           999700          1.7   \n",
       "3               153           1811570           -49997          2.1   \n",
       "4               312            770880          -165988          3.3   \n",
       "\n",
       "   Med.  Age Urban  Pop % World  Share  \n",
       "0       28.0         36 %      17.76 %  \n",
       "1       39.0         65 %      17.72 %  \n",
       "2       38.0         83 %       4.23 %  \n",
       "3       30.0         59 %       3.45 %  \n",
       "4       21.0         35 %       2.99 %  "
      ]
     },
     "execution_count": 3,
     "metadata": {},
     "output_type": "execute_result"
    }
   ],
   "source": [
    "df_population.head()"
   ]
  },
  {
   "cell_type": "code",
   "execution_count": 5,
   "metadata": {},
   "outputs": [],
   "source": [
    "url = \"https://backstage.forgerock.com/docs/auth-node-ref/latest/cloud/auth-node-identity-store-decision.html\""
   ]
  },
  {
   "cell_type": "code",
   "execution_count": 6,
   "metadata": {},
   "outputs": [],
   "source": [
    "req = requests.get(url)\n",
    "soup = BeautifulSoup(req.text, 'html.parser')"
   ]
  },
  {
   "cell_type": "code",
   "execution_count": 7,
   "metadata": {},
   "outputs": [
    {
     "name": "stdout",
     "output_type": "stream",
     "text": [
      "https://backstage.forgerock.com/docs/auth-node-ref/latest/cloud/auth-node-identity-store-decision.html\n",
      "https://cdn.forgerock.com/docs-ui/adoc/prod/vendor.antora-styles.css\n",
      "https://cdn.forgerock.com/docs-ui/adoc/prod/forgerock.antora-styles.css\n",
      "https://cdn.forgerock.com/favicon.ico\n"
     ]
    }
   ],
   "source": [
    "links = soup.find_all(\"link\")\n",
    " # Extract the href attribute from each link\n",
    "for link in links:\n",
    "    href = link.get('href')\n",
    "    print(href)"
   ]
  },
  {
   "cell_type": "code",
   "execution_count": 8,
   "metadata": {},
   "outputs": [
    {
     "data": {
      "text/plain": [
       "'Identity Store Decision node :: ForgeRock Identity Cloud Docs'"
      ]
     },
     "execution_count": 8,
     "metadata": {},
     "output_type": "execute_result"
    }
   ],
   "source": [
    "soup.title.string"
   ]
  },
  {
   "cell_type": "code",
   "execution_count": 9,
   "metadata": {},
   "outputs": [
    {
     "name": "stdout",
     "output_type": "stream",
     "text": [
      "Content: Attempts to match the provided username and password with those in the identity store.\n",
      "If the credentials exist, the node checks whether the profile is locked, the provided password has expired,\n",
      "or the user cancels a password reset.\n",
      "The credentials match those found in the identity store.\n",
      "The credentials do not match those found in the identity store.\n",
      "The profile associated with the provided credentials is locked.\n",
      "The user must change their password.\n",
      "When the journey prompts the user to change their password, the user cancels the password change.\n",
      "The profile is found, but the password has expired.\n",
      "Minimum Password Length\n",
      "Specifies the minimum acceptable password length.\n",
      "Default: 8\n",
      "Username as Universal Identifier\n",
      "If you enable this property, the username property is set to the value of the uuid.\n",
      "For example, \"username\": \"c636b756-ba6b-481d-ab4a-ab8c064cb24b\".\n",
      "If this property is false, the value of the username property remains unchanged.\n",
      "For example, \"username\": \"bjensen\".\n",
      "Default: false\n",
      "In new Identity Cloud deployments (starting from 2022.6), this property is false (\"username\": \"bjensen\").\n",
      "In a deployment upgrade, this property is true, (username takes the value of the uuid)\n",
      "for compatibility with previous Identity Cloud releases.\n",
      "In a deployment upgrade where this node already includes the property,\n",
      "the value of Username as Universal Identifier remains unchanged.\n",
      "Use mixed case for password change messages\n",
      "Defines whether password change messages are returned in mixed (sentence) case or transformed to uppercase.\n",
      "By default password reset and password change messages are transformed to upper case. Enable this setting to return\n",
      "messages in sentence case.\n",
      "Default: Disabled\n",
      "The Data Store Decision node is a simpler node with only two outcomes, True and False.\n",
      "Use this node if the flow only requires these outcomes.\n"
     ]
    }
   ],
   "source": [
    "paragraphs = soup.find_all('p')\n",
    "content = '\\n'.join([p.get_text() for p in paragraphs])\n",
    "print(\"Content:\", content)"
   ]
  },
  {
   "cell_type": "code",
   "execution_count": 29,
   "metadata": {},
   "outputs": [],
   "source": [
    "docs_url = 'https://backstage.forgerock.com/docs/ds/7.4/getting-started/preface.html'\n",
    "knowledge_url = 'https://backstage.forgerock.com/knowledge/kb/feed/MT4Xu34BhNXlugio6yw2'\n",
    "trainig_url = 'https://backstage.forgerock.com/university/'"
   ]
  },
  {
   "cell_type": "code",
   "execution_count": 15,
   "metadata": {},
   "outputs": [],
   "source": [
    "req_docs = requests.get(docs_url)\n",
    "soup_docs = BeautifulSoup(req_docs.text, 'html.parser')"
   ]
  },
  {
   "cell_type": "code",
   "execution_count": 18,
   "metadata": {},
   "outputs": [],
   "source": [
    "def get_all_links(soup):\n",
    "    links = soup.find_all(\"link\")\n",
    "    ref = []\n",
    "    for link in links:\n",
    "        ref.append(link.get('href'))\n",
    "    return ref"
   ]
  },
  {
   "cell_type": "code",
   "execution_count": 19,
   "metadata": {},
   "outputs": [
    {
     "data": {
      "text/plain": [
       "['https://backstage.forgerock.com/docs/ds/7.4/getting-started/preface.html',\n",
       " 'install.html',\n",
       " 'https://cdn.forgerock.com/docs-ui/adoc/prod/vendor.antora-styles.css',\n",
       " 'https://cdn.forgerock.com/docs-ui/adoc/prod/forgerock.antora-styles.css',\n",
       " 'https://cdn.forgerock.com/favicon.ico']"
      ]
     },
     "execution_count": 19,
     "metadata": {},
     "output_type": "execute_result"
    }
   ],
   "source": [
    "get_all_links(soup_docs)"
   ]
  },
  {
   "cell_type": "code",
   "execution_count": 30,
   "metadata": {},
   "outputs": [],
   "source": [
    "req_knowledge = requests.get(knowledge_url)\n",
    "soup_knowledge = BeautifulSoup(req_knowledge.text, 'html.parser')"
   ]
  },
  {
   "cell_type": "code",
   "execution_count": 31,
   "metadata": {},
   "outputs": [
    {
     "data": {
      "text/plain": [
       "['https://cdn.forgerock.com/favicon.ico',\n",
       " 'styles.f690e88b6ac5a737.css',\n",
       " 'styles.f690e88b6ac5a737.css']"
      ]
     },
     "execution_count": 31,
     "metadata": {},
     "output_type": "execute_result"
    }
   ],
   "source": [
    "get_all_links(soup_knowledge)"
   ]
  },
  {
   "cell_type": "code",
   "execution_count": 23,
   "metadata": {},
   "outputs": [
    {
     "data": {
      "text/plain": [
       "[<a href=\"mailto:backstagehelp.forgerock.com\">backstage.forgerock.com</a>]"
      ]
     },
     "execution_count": 23,
     "metadata": {},
     "output_type": "execute_result"
    }
   ],
   "source": [
    "links = soup_knowledge.find_all('a', href=True)\n",
    "links"
   ]
  },
  {
   "cell_type": "code",
   "execution_count": 2,
   "metadata": {},
   "outputs": [],
   "source": [
    "url  = 'https://backstage.forgerock.com/docs/idcloud/latest/overview.html'\n",
    "req = requests.get(url)\n",
    "soup = BeautifulSoup(req.text, 'html.parser')"
   ]
  },
  {
   "cell_type": "code",
   "execution_count": 3,
   "metadata": {},
   "outputs": [],
   "source": [
    "def get_all_links(soup):\n",
    "    links = soup.find_all(\"link\")\n",
    "    links_a = soup.find_all(\"a\")\n",
    "    links = links + links_a\n",
    "    ref = []\n",
    "    for link in links:\n",
    "        ref.append(link.get('href'))\n",
    "    return ref\n",
    "\n",
    "\n"
   ]
  },
  {
   "cell_type": "code",
   "execution_count": 4,
   "metadata": {},
   "outputs": [],
   "source": [
    "links_from_id_cloud_docs = get_all_links(soup)"
   ]
  },
  {
   "cell_type": "code",
   "execution_count": 16,
   "metadata": {},
   "outputs": [
    {
     "name": "stdout",
     "output_type": "stream",
     "text": [
      "700\n"
     ]
    }
   ],
   "source": [
    "print(len(links_from_id_cloud_docs))"
   ]
  },
  {
   "cell_type": "code",
   "execution_count": 13,
   "metadata": {},
   "outputs": [
    {
     "name": "stdout",
     "output_type": "stream",
     "text": [
      "710\n"
     ]
    }
   ],
   "source": [
    "list_items = soup.find_all('li', class_='nav-item')\n",
    "\n",
    "li = []\n",
    "# Iterate over the list items and extract the links\n",
    "for item in list_items:\n",
    "    # Find the anchor element with class \"nav-link\"\n",
    "    anchor = item.find('a', class_='nav-link')\n",
    "    if anchor:\n",
    "        link_text = anchor.text\n",
    "        link_href = anchor['href']\n",
    "        li.append(link_href)\n",
    "        #print(\"Text:\", link_text)\n",
    "        #print(\"Href:\", link_href)\n",
    "print(len(list_items))"
   ]
  },
  {
   "cell_type": "code",
   "execution_count": null,
   "metadata": {},
   "outputs": [],
   "source": []
  },
  {
   "cell_type": "code",
   "execution_count": 15,
   "metadata": {},
   "outputs": [
    {
     "name": "stdout",
     "output_type": "stream",
     "text": [
      "708\n"
     ]
    }
   ],
   "source": [
    "htmls = list(filter(lambda text: text.endswith('.html'), li))\n",
    "print(len(htmls))"
   ]
  },
  {
   "cell_type": "code",
   "execution_count": 6,
   "metadata": {},
   "outputs": [],
   "source": [
    "base_url = 'https://backstage.forgerock.com/docs/idcloud/latest/'"
   ]
  },
  {
   "cell_type": "code",
   "execution_count": 7,
   "metadata": {},
   "outputs": [
    {
     "data": {
      "text/plain": [
       "'https://backstage.forgerock.com/docs/idcloud/latest/overview.html'"
      ]
     },
     "execution_count": 7,
     "metadata": {},
     "output_type": "execute_result"
    }
   ],
   "source": [
    "only_html = list(filter(lambda text: text.endswith('.html'), links_from_id_cloud_docs))\n",
    "only_html.pop(0)"
   ]
  },
  {
   "cell_type": "code",
   "execution_count": 9,
   "metadata": {},
   "outputs": [
    {
     "data": {
      "text/plain": [
       "'Identity Cloud :: ForgeRock Identity Cloud Docs\\nlist\\nIdentity Cloud\\nIdentity Cloud\\nGetting Started\\nWhat is Identity Cloud?\\nGet to know the global data regions\\nPlan for Identity Cloud\\nPhase 1 - Assess and plan\\nPhase 2 - Transform\\nPhase 3 - Adopt and refine\\nPhase 4 - Enable\\nPlan for data object modeling\\nKey functions\\nApproach\\nSeparate users for logical needs\\nOrganize your identities using relationships\\nPlan to synchronize identities\\nGet to know your tenant\\nGet to know the admin interfaces\\nGet a snapshot of your tenant\\nPlan for security in Identity Cloud\\nUse Case Catalog\\nAbout the use case catalog\\nAdministration\\nSet up administrators\\nRead audit logs using REST\\nAuthentication\\nLogin with MFA using push notifications\\nSalesforce as SP (SAML)\\nMicrosoft Entra ID (Azure AD) as OpenID provider\\nOkta as RP (OIDC)\\nPass-through auth (PTA) with Microsoft Entra ID (Azure AD)\\nCustomization\\nCustomize a theme for hosted pages\\nCustomize emails\\nCreate a script in a journey to record last login time\\nData (identity) management\\nCreate test users and roles\\nAssign roles to users dynamically\\nDelegate administration with organizations\\nProvision users to and from Identity Cloud and PingDirectory\\nProvision users from Microsoft Entra ID (Azure AD)\\nProvision data from Active Directory (AD) using RCS\\nSelf-service\\nUser registration\\nThird-party integrations\\nTenants\\nTenant environments\\nWhere your data resides\\nDevelopment, staging, and production tenant environments\\nUAT tenant environment\\nSandbox tenant environment\\nOutbound static IP addresses\\nTenant settings\\nTenant administrator settings\\nAdministrator federation\\nSet up a federation provider\\nEnable federation for your tenant\\nGrant or revoke super administrator access\\nSet federation login requirements\\nActivate or deactivate a federation provider\\nStore client secrets in ESVs\\nManage tenant configuration\\nESVs\\nManage using the API\\nManage using the UI\\nUse ESVs in scripts\\nUse ESVs for signing and encryption keys\\nConfigure placeholders to use with ESVs\\nManage using the API\\nManage using the UI\\nPromote your configuration\\nManage using the API\\nManage using the UI\\nPromote applications\\nAccess REST APIs using service accounts\\nMonitor tenant status and performance\\nCollect audit and debug logs\\nConfigure emails for your users\\nEmail provider\\nEmail templates\\nSend email\\nAllow cross-domain server requests with CORS\\nControl access to tenant resources with CSP\\nUnderstand the security behind your tenant\\nCreate private network connections with Secure Connect\\nConfigure Secure Connect with Equinix\\nRealms\\nRealm settings\\nAlpha and Bravo realms\\nConfigure customer-friendly domain names\\nSSL certificates\\nConfigure a self-managed SSL certificate\\nSecure access to web resources\\nCreate end-user password policies\\nCreate authentication flows with journeys\\nDebug end-user journeys\\nApplication Management\\nApplication management (current)\\nRegister an application\\nRegister a custom application\\nProvision an application\\nManage end users and roles\\nManage application registrations\\nApplication management (legacy)\\nTest SAML 2.0 SSO using JSP flows\\nAuthentication nodes\\nNodes for journeys\\nBasic nodes\\nData Store Decision node\\nFailure node\\nLDAP Decision node\\nIdentity Store Decision node\\nSuccess node\\nZero Page Login Collector node\\nMulti-factor nodes\\nCombined MFA Registration node\\nDevice Binding node\\nDevice Binding Storage node\\nDevice Signing Verifier node\\nGet Authenticator App node\\nHOTP Generator node\\nMFA Registration Options node\\nOATH Device Storage node\\nOATH Registration node\\nOATH Token Verifier node\\nOpt-out Multi-Factor Authentication node\\nOTP Collector Decision node\\nOTP Email Sender node\\nOTP SMS Sender node\\nPush Registration node\\nPush Result Verifier node\\nPush Sender node\\nPush Wait node\\nRecovery Code Collector Decision node\\nRecovery Code Display node\\nWebAuthn Authentication node\\nWebAuthn Device Storage node\\nWebAuthn Registration node\\nRisk management nodes\\nAccount Active Decision node\\nAccount Lockout node\\nAuth Level Decision node\\nCAPTCHA node\\nLegacy CAPTCHA node\\nModify Auth Level node\\nBehavioral nodes\\nIncrement Login Count node\\nLogin Count Decision node\\nContextual nodes\\nCookie Presence Decision node\\nDevice Geofencing node\\nDevice Location Match node\\nDevice Match node\\nDevice Profile Collector node\\nDevice Profile Save node\\nDevice Tampering Verification node\\nPersistent Cookie Decision node\\nSet Custom Cookie node\\nSet Persistent Cookie node\\nFederation nodes\\nOIDC ID Token Validator node\\nSAML2 Authentication node\\nLegacy Social Provider Handler node\\nWrite Federation Information node\\nIdentity management nodes\\nAccept Terms and Conditions node\\nAttribute Collector node\\nAttribute Present Decision node\\nAttribute Value Decision node\\nConsent Collector node\\nCreate Object node\\nDisplay Username node\\nIdentify Existing User node\\nKBA Decision node\\nKBA Definition node\\nKBA Verification node\\nPass-through Authentication node\\nPatch Object node\\nPlatform Password node\\nPlatform Username node\\nProfile Completeness Decision node\\nQuery Filter Decision node\\nRequired Attributes Present node\\nSelect Identity Provider node\\nTerms and Conditions Decision node\\nTime Since Decision node\\nUtility nodes\\nAgent Data Store Decision node\\nAnonymous Session Upgrade node\\nAnonymous User Mapping node\\nChoice Collector node\\nConfiguration Provider node\\nEmail Suspend node\\nEmail Template node\\nFailure URL node\\nGet Session Data node\\nInner Tree Evaluator node\\nMessage node\\nMeter node\\nPage node\\nPolling Wait node\\nQuery Parameter node\\nRegister Logout Webhook node\\nRemove Session Properties node\\nRetry Limit Decision node\\nScripted Decision node\\nSet Session Properties node\\nState Metadata node\\nSuccess URL node\\nTimer Start node\\nTimer Stop node\\nMarketplace nodes\\nBioCatch Session node\\nBioCatch Session Collector node\\nBioCatch Session Profiler node\\nDuo node (Deprecated)\\nDuo Universal Prompt node\\nFingerprint nodes\\nSetup\\nFingerprint Profiler node\\nFingerprint Response node\\nGateway Communication overview\\nGateway Communication setup\\nGateway Communication node\\nIdentityX Auth Request Decision node\\nIdentityX Auth Request Initiator node\\nIdentityX Check Enrollment Status node\\nIdentityX Mobile Auth Request node\\nIdentityX Mobile Auth Request Validate node\\nIdentityX Sponsor User node\\niProov authentication\\niProov Authentication node\\nJumio identity verification\\nJumio initiate node\\nJumio decision node\\nMicrosoft Intune node\\nOneSpan\\nSet up\\nOneSpan tenant setup\\nIdentity Cloud service setup\\nOneSpan nodes\\nOneSpan Auth Activate Device node\\nOneSpan Auth Add Device node\\nOneSpan Auth Check Activation node\\nOneSpan Auth Check Session Status node\\nOneSpan Auth VDP User Register node\\nOneSpan Auth Assign Authenticator node\\nOneSpan Auth Generate VOTP node\\nOneSpan Get User Authenticator node\\nOneSpan Identity Verification node\\nOneSpan Sample journeys\\nOnfido Check node\\nOnfido Registration node\\nRSA SecurID\\nRSA SecurID node\\nSecret Double Octopus (SDO) nodes\\nThreatMetrix Authentication nodes\\nThreatMetrix Profiler node\\nThreatMetrix Session Query node\\nThreatMetrix Review Status node\\nThreatMetrix Reason Code node\\nThreatMetrix Update Review node\\nTwilio Identifier node\\nTwilio Verify Collector Decision node\\nTwilio Verify Lookup node\\nTwilio Verify Sender node\\nIdentities\\nIdentity Cloud identity schema\\nCreate authorization structure with roles & entitlements\\nStructure identities using organizations\\nManage identities\\nConstrain identity queries\\nReference user identity attributes and properties\\nImport & Sync Identities\\nBulk import identities\\nSync identities with an external resource\\nConfigure scheduled jobs\\nValidate passwords with a remote service\\nAccess Management\\nAuthentication and SSO\\nWhat is authentication in Identity Cloud?\\nConfigure your tenant for authentication\\nCreate journeys to authenticate users\\nRedirect users on authentication success/failure\\nConfigure realm-specific authentication\\nAuthenticate with a browser\\nAuthenticate using REST\\nAuthenticate using REST\\nSession tokens after authentication\\nLog out using REST\\nSingle sign-on\\nDelegate authentication to social providers\\nSuspend journey progress to resume later\\nMulti-factor authentication (MFA)\\nAuthenticate using a device\\nAuthenticate using push notification\\nConfigure journeys for push notifications\\nTest push authentication\\nLimitations of passwordless push authentication\\nAuthenticate using one-time passcodes from the ForgeRock app\\nManage devices for MFA\\nThe ForgeRock Authenticator application\\nRecover after replacing a lost device\\nRecover after a device becomes out of sync\\nReset registered devices using REST\\nAccount lockout\\nAuthentication settings & scripting API\\nCore authentication attributes\\nSupported callbacks\\nInteractive callbacks\\nRead-only callbacks\\nBackchannel callbacks\\nAuthenticate endpoint parameters\\nClient configuration reference\\nAuthorization\\nWhat is authorization in Identity Cloud?\\nGrant access through policies\\nPolicies in the UI\\nPolicies over REST\\nDefine a template for policy resources\\nResource types in the UI\\nResource types over REST\\nGroup similar policies through policy sets\\nPolicy sets in the UI\\nPolicy sets over REST\\nRequest authorization from Identity Cloud\\nRequest policy decisions over REST\\nAuthorize one-time access\\nDynamic OAuth 2.0 authorization\\nCreate scripts for policy evaluation\\nSessions\\nIntroduction to sessions and cookies\\nClient-side sessions\\nConfigure client-side sessions\\nServer-side sessions\\nConfigure server-side sessions\\nConfigure session termination\\nManage active session quotas\\nView and terminate sessions (UI)\\nManage sessions (REST API)\\nUpgrade a session with multi-factor authentication (MFA)\\nOAuth 2.0\\nHow Identity Cloud works as an authorization server\\nHow Identity Cloud works as a client and resource server\\nConfigure Identity Cloud as an authorization server\\nToken storage\\nClient-side tokens\\nServer-side tokens\\nScopes\\nManage consent\\nGather resource owner consent\\nRegister client applications\\nAuthenticate OAuth2.0 client applications\\nUse an authorization header (HTTP Basic)\\nUse form parameters (HTTP Post)\\nUse a JWT profile\\nProve client identity with proof-of-possession\\nUse JWK-based proof-of-possession\\nIssue refresh tokens\\nShare tokens using macaroons\\nOAuth 2.0 grant flows\\nAuthorization code grant\\nAuthorization code grant with PKCE\\nAuthorization code grant with PAR\\nImplicit grant\\nResource owner password credentials grant\\nClient credentials grant\\nDevice authorization grant\\nDevice authorization grant with PKCE\\nSAML 2.0 profile for authorization\\nJWT profile for authorization\\nExchange tokens for impersonation or delegation\\nExample of impersonation\\nExample of delegation\\nOAuth 2.0 endpoints\\nOAuth 2.0 endpoint parameters\\n/oauth2/par\\n/oauth2/authorize\\n/oauth2/bc-authorize\\n/oauth2/access_token\\n/oauth2/device/code\\n/oauth2/device/user\\n/oauth2/token/revoke\\n/oauth2/introspect\\n/json/token/macaroon\\nLegacy endpoints\\nOAuth 2.0 administration endpoints\\n/realm-config/agents/OAuth2Client\\n/users/user/oauth2/applications\\nCustomize OAuth2.0 using JavaScript extensions\\nAccess tokens\\nAuthorize endpoint data provider\\nScope evaluation\\nScope validation\\nModify & override claims\\nOIDC 1.0\\nHow Identity Cloud works as an OIDC provider\\nConfigure the OIDC provider\\nEncrypt ID tokens and backchannel logout tokens\\nClaims\\nRegister clients dynamically\\nAuthenticate OIDC clients\\nImplement OIDC grant flows\\nBackchannel request grant\\nHybrid grant\\nManage OIDC user sessions\\nManage sessions\\nBackchannel logout\\nAuthentication requirements\\nAuthenticate using GSMA mobile connect\\nID token uses\\nOIDC 1.0 endpoints\\n/oauth2/userinfo\\n/oauth2/idtokeninfo\\n/oauth2/connect/checkSession\\n/oauth2/connect/endSession\\n/oauth2/register\\n/.well-known/webfinger\\n/oauth2/.well-known/openid-configuration\\n/oauth2/connect/jwk_uri\\n/oauth2/connect/rp/jwk_uri\\nSAML 2.0\\nIntroduction to SAML 2.0\\nDeployment considerations\\nConfigure IDPs, SPs, and CoTs\\nSign and encrypt messages\\nImplement SSO and SLO\\nIntegrate SAML 2.0 in journeys to initiate SSO\\nInvoke JSPs to initiate SSO & SLO\\nFederate identities\\nChoose persistent or transient federation\\nEnable persistent federation\\nEnable transient federation\\nLink identities automatically with auto-federation\\nCreate identities automatically with auto-federation\\nLink identities for authentication\\nLink identities to a single, shared account\\nCustomize SAML 2.0\\nMap user-configured attributes to SAML attributes\\nAlter authentication request processing\\nAlter authentication request processing on the SP side\\nReference\\nREST API\\nREST API versions\\nSpecify realms in URLs\\nREST API endpoints\\nScript with JavaScript\\nScripting environment\\nScripting API\\nScript bindings\\nScripted decision node API\\nNext-generation scripts\\nReuse scripts\\nManage scripts over REST\\nQuery scripts\\nRead a script\\nValidate a script\\nCreate a script\\nUpdate a script\\nDelete a script\\nSample scripts\\nReference\\nConfigure services\\nSecret labels for signing and encryption\\nGlossary\\nIdentity Management\\nObject modeling\\nManaged objects\\nDefine managed object schema\\nCreate and modify object types\\nCalculate properties based off other properties\\nExtend functionality through scripts\\nEnable self-service by tracking user metadata\\nManage identities\\nRelationships between objects\\nCreate a relationship between two objects\\nManage custom relationship properties\\nConfigure relationship change notification\\nValidate relationships between objects\\nQuery relationships bidirectionally\\nGrant relationships conditionally\\nView relationships over REST\\nRoles\\nManaged roles\\nManipulate roles\\nUse temporal constraints to restrict effective roles\\nUse assignments to provision users\\nEffective roles and effective assignments\\nRoles and relationship change notification\\nMap external groups to internal authz roles\\nGroups\\nManage groups\\nOrganizations\\nManage organizations over REST\\nGrow organizations downward if possible\\nUse policies to validate data\\nApply policies to managed objects\\nManage policies over REST\\nAccess data objects\\nAccess data objects using scripts\\nAccess data objects using the REST API\\nUse a remote proxy to access data objects\\nDefine and call data queries\\nData models and objects reference\\nManaged objects\\nAuthentication and authorization\\nAuthentication\\nAuthentication and roles\\nAuthentication through OAuth 2.0 and subject mappings\\nAuthorization and roles\\nDelegated administration\\nSynchronization\\nSynchronization overview\\nTypes of synchronization\\nConfigure synchronization at a high level\\nData mapping model\\nConfigure a connection between resources\\nMap attributes between resources\\nConfigure mapping\\nRemove mapping\\nTransform attributes\\nDefault attribute values\\nCreate conditions on attributes\\nMap a single object to multiple objects\\nPrevent accidental target deletion\\nManage objects during sync using script hooks\\nReuse links between mappings\\nSynchronization situations and actions\\nHow situations are assessed\\nSource reconciliation situations\\nTarget reconciliation situations\\nImplicit and liveSync situations\\nTake an action from an assigned situation\\nCorrelate source & target objects\\nSynchronization operations\\nManage reconciliation\\nManage liveSync\\nFilter sync data\\nEnhance implicit sync and liveSync\\nSchedule synchronization\\nClustered reconciliation\\nImport bulk data\\nTune reconciliation performance\\nSynchronization reference\\nScripting in JavaScript\\nCall a script from the IDM configuration\\nValidate scripts over REST\\nCreate custom endpoints to launch scripts\\nRegister custom scripted actions\\nRequest context chain\\nScript triggers\\nIn managed objects\\nIn mappings\\nIn the router configuration\\nPopulate the security context of an authenticated user using a script\\nVariables available in scripts\\nCustom endpoint script variables\\nRetrieve property information from config files\\nManage the uniform interface to objects with the router service\\nFilter objects\\nImprove performance with pattern matching\\nScript execution sequence\\nScript scope\\nFunctions available for use in identity scripts\\nLogging in identity-related scripts\\nSchedule tasks on objects\\nSchedule reconciliation and synchronization\\nConfigure the scheduler service\\nConfigure schedules\\nManage daylight saving time with schedules\\nRun schedules missed while a server was offline\\nSchedule examples\\nScan data to trigger tasks\\nCreate a new scanning task\\nManage scanning tasks\\nUsing REST\\nUsing the IDM admin UI\\nSecure identity data\\nConnectors\\nMake dynamic HTTP calls using the external REST service\\nIdentity and object-related REST APIs\\nREST & IDM\\nREST API versioning\\nREST API structure\\nREST endpoints\\nBulk import\\nEmail\\nFeature enablement\\nInternal objects\\nManaged groups\\nManaged organizations\\nManaged users\\nPrivileges\\nReconciliation operations\\nScanning tasks\\nSchedules\\nSchema\\nScripts\\nServer configuration\\nServer state\\nSynchronization service\\nSystem objects\\nUIs & User Self-Service\\nOverview\\nEnd-user UX options\\nCompare end-user UX options\\nEnd-user UX journey flows\\nIdentity Cloud hosted pages\\nEnd-user screens\\nCustomize Identity Cloud end-user and login UIs\\nLocalize login and end user screens\\nForgeRock SDKs\\nUpload an Android assetlinks.json file\\nUpload an iOS apple-app-site-association file\\nConfigure user self-service journeys\\nJourneys & nodes for self-service\\nLogin with self-service\\nUsername recovery\\nPassword reset\\nPassword updates\\nUser self-registration\\nSocial authentication\\nProgressive profile\\nPass-through authentication\\nScripting tips\\nDeveloper Docs\\nScripting\\nExtend Identity Cloud with scripting\\nExtend behavior with custom endpoints\\nTrigger scripts during events on identity objects\\nREST API\\nAccess monitoring and logging endpoints with an API key and secret\\nAccess endpoints with an access token\\nPostman collection\\nForgeRock REST\\nCreate\\nRead\\nUpdate\\nDelete\\nPatch\\nAction\\nQuery\\nHTTP status codes\\nAutonomous Access\\nAbout Autonomous Access\\nLearn about the features\\nUse dashboards to detect risks\\nDeploying Autonomous Access\\nLearn about integration\\nCreate journeys\\nSet the data sources\\nConfigure the risk settings\\nRun training\\nTune the model\\nAdd Autonomous Access nodes to your journeys\\nLearn about some configuration tips\\nIdentity Governance\\nAbout Identity Governance\\nCertify access\\nConfigure data to review\\nIdentity certification\\nEntitlement assignment certification\\nRole membership certification\\nKick off data review process\\nCertify data\\nRequest access\\nManage access request workflows\\nWorkflow nodes\\nExamples of workflows\\nRequest access to resources\\nRequest to remove access (managers only)\\nReview request items\\nExtend capabilities\\nManage entitlements\\nGovernance glossary\\nREST API\\nIdentity Governance\\nWorkflows\\nRelated Docs\\nDeep dives\\nBeyond the docs\\nHow-tos\\nRelease Notes\\nRelease notes\\nRapid channel changelog\\nRapid channel features\\nInternational email addresses\\nRegular channel changelog\\nChangelog archive\\nProduct Information\\nSupported browsers\\nLegal notices\\nSecurity and compliance\\nPenetration testing & load testing policy\\nProduct lifecycle & releases\\nMigration dependent features\\nTenant administrator mandatory 2-step verification FAQ\\nApplication management migration FAQ\\nEvent hooks migration FAQ\\nGroup identity migration FAQ\\nAdd-on capabilities\\nHigh availability and disaster recovery\\nDeprecation notices\\nExtend journeys with ForgeRock Marketplace nodes\\nIdentity Cloud\\nlatest\\nIdentity Cloud\\nlatest\\nIdentity Cloud\\nlatest\\nIdentity Cloud\\nlatest\\nIdentity Cloud\\nWhat is Identity Cloud?\\nWas this helpful?\\nthumb_up\\nYes\\nthumb_down\\nNo\\nExpand/Collapse All\\nIdentity Cloud\\nThe ForgeRock Identity Cloud is a comprehensive IAM service. Our service\\nlets you deploy applications anywhere: on-premises, in your own private cloud, or in your\\nchoice of public cloud.\\nWith ForgeRock Identity Cloud, you can manage the complete lifecycle of\\nidentities including:\\nFlexible and extensible\\nuser journeys\\nApplication management\\nIdentity management\\nImplement SSO and SLO\\nReal-time\\nidentity synchronization\\nbetween cloud and on premises\\nPolicy enforcement\\nusing ForgeRock Identity Gateway\\nDevice-profiling authentication\\nin user journeys using our SDKs\\nAnd much more...\\nSupport and customer success\\nForgeRock is here to help you with your identity journey. You’ll have a dedicated\\nteam to help you achieve your goals. Find all the resources you need\\nBackstage\\n.\\nOur dedicated cloud engineering team monitors and manages your environment. We’ll\\nhelp you with moving configuration, and with secrets management, between\\nenvironments. Learn about\\nmoving configuration between environments\\n.\\npower_settings_new\\nGetting Started\\nSteps for\\nfirst-timers\\nformat_list_numbered\\nHow-Tos\\nCookbook instructions\\nlibrary_books\\nDeep Dives\\nHow things work & other concepts\\nlaunch\\nBeyond the Docs\\nRecommended resources\\nWas this helpful?\\nthumb_up\\nYes\\nthumb_down\\nNo\\nCopyright Â© 2010-2024 ForgeRock, all rights reserved.'"
      ]
     },
     "execution_count": 9,
     "metadata": {},
     "output_type": "execute_result"
    }
   ],
   "source": [
    "all_text = soup.get_text(strip=True, separator='\\n')  # Strip whitespace and newlines\n",
    "all_text"
   ]
  },
  {
   "cell_type": "code",
   "execution_count": 68,
   "metadata": {},
   "outputs": [],
   "source": [
    "reqs_idcloud_docs = []\n",
    "soups_id_cloud_docs = []\n",
    "for link in only_html:\n",
    "    full_path = base_url + link\n",
    "    req = requests.get(full_path)\n",
    "    reqs_idcloud_docs.append(req)\n",
    "    soups_id_cloud_docs.append(BeautifulSoup(req.text, 'html.parser'))"
   ]
  },
  {
   "cell_type": "code",
   "execution_count": 76,
   "metadata": {},
   "outputs": [
    {
     "name": "stdout",
     "output_type": "stream",
     "text": [
      "Content: Cloud adoption design helps you convert your cloud adoption project goals into an actionable plan. Use the cloud adoption design to guide and align your technical efforts with your organization’s business strategy.\n",
      "In consultation with your stakeholders, document the cloud adoption project goals and your desired business outcomes, and develop a technical architecture of the proposed solution.\n",
      "The actions to take in this phase are:\n",
      "Develop the technical architecture of your deployment to the Identity Cloud\n",
      "Analyze and define the data object model for:\n",
      "Users and groups\n",
      "Roles and assignments\n",
      "Organizations\n",
      "Authentication and authorization requirements, such as KBA, OATH, and push devices\n",
      "Define attribute mappings between sources and Identity Cloud\n",
      "Finalize the journeys (authentication flows) and sequence diagrams\n",
      "Analyze and define migration process:\n",
      "Required Remote Connector Service (RCS) connectors\n",
      "Password migration or pass-through authentication\n",
      "Configuration migration for S2S\n",
      "For further information on how to set up and configure Identity Cloud, view the article Configuration management for ForgeRock Identity Cloud - Part 1.\n"
     ]
    }
   ],
   "source": [
    "paragraphs = soups_id_cloud_docs[6].find_all('p')\n",
    "content = '\\n'.join([p.get_text() for p in paragraphs])\n",
    "print(\"Content:\", content)"
   ]
  },
  {
   "cell_type": "code",
   "execution_count": 111,
   "metadata": {},
   "outputs": [],
   "source": [
    "def get_content_as_plain_text(soup: BeautifulSoup):\n",
    "        paragraphs = soup.find_all('p')\n",
    "        content = '\\n'.join([p.get_text() for p in paragraphs])\n",
    "        return soup.title.string, soup.title.string +' '+ content"
   ]
  },
  {
   "cell_type": "code",
   "execution_count": 81,
   "metadata": {},
   "outputs": [],
   "source": [
    "contents = [get_content_as_plain_text(s) for s in soups_id_cloud_docs]"
   ]
  },
  {
   "cell_type": "code",
   "execution_count": 91,
   "metadata": {},
   "outputs": [],
   "source": [
    "id_cloud_docs = {}\n",
    "titles = [c[0] for c in contents]\n",
    "content = [c[1] for c in contents]\n",
    "id_cloud_docs['title'] = titles\n",
    "id_cloud_docs['content'] = content\n"
   ]
  },
  {
   "cell_type": "code",
   "execution_count": 92,
   "metadata": {},
   "outputs": [],
   "source": [
    "idcloud_df = pd.DataFrame(id_cloud_docs)"
   ]
  },
  {
   "cell_type": "code",
   "execution_count": 93,
   "metadata": {},
   "outputs": [],
   "source": [
    "idcloud_df.to_csv('../data/raw/idcloud-content.csv')"
   ]
  },
  {
   "cell_type": "code",
   "execution_count": 94,
   "metadata": {},
   "outputs": [
    {
     "data": {
      "text/html": [
       "<div>\n",
       "<style scoped>\n",
       "    .dataframe tbody tr th:only-of-type {\n",
       "        vertical-align: middle;\n",
       "    }\n",
       "\n",
       "    .dataframe tbody tr th {\n",
       "        vertical-align: top;\n",
       "    }\n",
       "\n",
       "    .dataframe thead th {\n",
       "        text-align: right;\n",
       "    }\n",
       "</style>\n",
       "<table border=\"1\" class=\"dataframe\">\n",
       "  <thead>\n",
       "    <tr style=\"text-align: right;\">\n",
       "      <th></th>\n",
       "      <th>title</th>\n",
       "      <th>content</th>\n",
       "    </tr>\n",
       "  </thead>\n",
       "  <tbody>\n",
       "    <tr>\n",
       "      <th>0</th>\n",
       "      <td>Identity Cloud docs home :: ForgeRock Identity...</td>\n",
       "      <td>Identity Cloud docs home :: ForgeRock Identity...</td>\n",
       "    </tr>\n",
       "    <tr>\n",
       "      <th>1</th>\n",
       "      <td>Identity Cloud docs home :: ForgeRock Identity...</td>\n",
       "      <td>Identity Cloud docs home :: ForgeRock Identity...</td>\n",
       "    </tr>\n",
       "    <tr>\n",
       "      <th>2</th>\n",
       "      <td>Identity Cloud :: ForgeRock Identity Cloud Docs</td>\n",
       "      <td>Identity Cloud :: ForgeRock Identity Cloud Doc...</td>\n",
       "    </tr>\n",
       "    <tr>\n",
       "      <th>3</th>\n",
       "      <td>Data regions :: ForgeRock Identity Cloud Docs</td>\n",
       "      <td>Data regions :: ForgeRock Identity Cloud DocsF...</td>\n",
       "    </tr>\n",
       "    <tr>\n",
       "      <th>4</th>\n",
       "      <td>Plan for Identity Cloud :: ForgeRock Identity ...</td>\n",
       "      <td>Plan for Identity Cloud :: ForgeRock Identity ...</td>\n",
       "    </tr>\n",
       "  </tbody>\n",
       "</table>\n",
       "</div>"
      ],
      "text/plain": [
       "                                               title  \\\n",
       "0  Identity Cloud docs home :: ForgeRock Identity...   \n",
       "1  Identity Cloud docs home :: ForgeRock Identity...   \n",
       "2    Identity Cloud :: ForgeRock Identity Cloud Docs   \n",
       "3      Data regions :: ForgeRock Identity Cloud Docs   \n",
       "4  Plan for Identity Cloud :: ForgeRock Identity ...   \n",
       "\n",
       "                                             content  \n",
       "0  Identity Cloud docs home :: ForgeRock Identity...  \n",
       "1  Identity Cloud docs home :: ForgeRock Identity...  \n",
       "2  Identity Cloud :: ForgeRock Identity Cloud Doc...  \n",
       "3  Data regions :: ForgeRock Identity Cloud DocsF...  \n",
       "4  Plan for Identity Cloud :: ForgeRock Identity ...  "
      ]
     },
     "execution_count": 94,
     "metadata": {},
     "output_type": "execute_result"
    }
   ],
   "source": [
    "idcloud_df.head()"
   ]
  },
  {
   "cell_type": "code",
   "execution_count": 107,
   "metadata": {},
   "outputs": [],
   "source": [
    "base_url_knowledge = \"https://backstage.forgerock.com/knowledge/kb/feed/AHAtkncBU3ev-gN3UhNG\"\n",
    "\n",
    "request_knowledge = requests.get(base_url_knowledge)\n",
    "soup_knowledge = BeautifulSoup(request_knowledge.text, 'html.parser')"
   ]
  },
  {
   "cell_type": "code",
   "execution_count": 102,
   "metadata": {},
   "outputs": [],
   "source": [
    "list_items = soup_knowledge.find_all('a', class_='nav-item')\n",
    "\n",
    "# Iterate over the list items and extract the links\n",
    "for item in list_items:\n",
    "    # Find the anchor element with class \"nav-link\"\n",
    "    anchor = item.find('a', class_='nav-link')\n",
    "    if anchor:\n",
    "        link_text = anchor.text\n",
    "        link_href = anchor['href']\n",
    "        print(\"Text:\", link_text)\n",
    "        print(\"Href:\", link_href)"
   ]
  },
  {
   "cell_type": "code",
   "execution_count": 108,
   "metadata": {},
   "outputs": [
    {
     "data": {
      "text/plain": [
       "<!DOCTYPE html>\n",
       "\n",
       "<html data-critters-container=\"\" lang=\"en\">\n",
       "<head>\n",
       "<meta charset=\"utf-8\"/>\n",
       "<title>Knowledge - ForgeRock BackStage</title>\n",
       "<base href=\"/knowledge/\"/>\n",
       "<meta content=\"width=device-width, initial-scale=1\" name=\"viewport\"/>\n",
       "<link href=\"https://cdn.forgerock.com/favicon.ico\" rel=\"icon\" type=\"image/x-icon\"/>\n",
       "<script async=\"\" src=\"https://cdn.forgerock.com/backstage/web-components/stable/backstage-web-components-loader.js\"></script>\n",
       "<style>@import\"https://fonts.googleapis.com/css2?family=Eczar:wght@700&family=Open+Sans:ital,wght@0,300;0,400;0,600;0,700;1,300;1,400;1,700&display=swap\";@charset \"UTF-8\";:root{--backstage-header-height:50px}.page-loading,#waitforit{position:absolute;top:50%;width:100%}.page-loading .forgerock-logo,#waitforit .forgerock-logo{background:url(https://cdn.forgerock.com/logo/forgerock-logo-vert-color.svg) center no-repeat;display:inline-block;height:140px;margin-top:-70px;width:100%}:root{--bs-blue:#0d6efd;--bs-indigo:#6610f2;--bs-purple:#6f42c1;--bs-pink:#d63384;--bs-red:#dc3545;--bs-orange:#fd7e14;--bs-yellow:#ffc107;--bs-green:#198754;--bs-teal:#20c997;--bs-cyan:#0dcaf0;--bs-black:#000;--bs-white:#fff;--bs-gray:#6c757d;--bs-gray-dark:#343a40;--bs-gray-100:#f8f9fa;--bs-gray-200:#e9ecef;--bs-gray-300:#dee2e6;--bs-gray-400:#ced4da;--bs-gray-500:#adb5bd;--bs-gray-600:#6c757d;--bs-gray-700:#495057;--bs-gray-800:#343a40;--bs-gray-900:#212529;--bs-primary:#006BC8;--bs-secondary:#032B75;--bs-success:#00BB86;--bs-info:#3DABFC;--bs-warning:#F99900;--bs-danger:#CC0937;--bs-dark:#455469;--bs-light:#ACB9CE;--bs-darkblue-900:#032B75;--bs-darkblue-800:#153C8B;--bs-darkblue-700:#1E4697;--bs-darkblue-600:#2950A3;--bs-darkblue-500:#2F57AD;--bs-darkblue-400:#5370B8;--bs-darkblue-300:#738AC4;--bs-darkblue-200:#9BABD5;--bs-darkblue-100:#C2CCE6;--bs-darkblue-50:#E7EBF5;--bs-darkblue:#032B75;--bs-steel-blue:#032B75;--bs-lightblue-900:#004CA9;--bs-lightblue-800:#006BC8;--bs-lightblue-700:#047CDA;--bs-lightblue-600:#0B8EED;--bs-lightblue-500:#0F9CFB;--bs-lightblue-400:#3DABFC;--bs-lightblue-300:#62BAFC;--bs-lightblue-200:#90CEFD;--bs-lightblue-100:#BBE0FD;--bs-lightblue-50:#E3F3FE;--bs-lightblue:#006BC8;--bs-cobalt:#006BC8;--bs-green-900:#005D35;--bs-green-800:#007C4B;--bs-green-700:#008D58;--bs-green-600:#00A066;--bs-green-500:#00AF71;--bs-green-400:#00BB86;--bs-green-300:#52C79B;--bs-green-200:#8BD6B7;--bs-green-100:#B9E6D3;--bs-green-50:#E2F5ED;--bs-green:#00BB86;--bs-verdigris:#00BB86;--bs-yellow-900:#F96700;--bs-yellow-800:#FA8800;--bs-yellow-700:#F99900;--bs-yellow-600:#FAAC00;--bs-yellow-500:#FABA00;--bs-yellow-400:#FBC323;--bs-yellow-300:#FCCF4B;--bs-yellow-200:#F9E486;--bs-yellow-100:#FEE9B1;--bs-yellow-50:#FFF7E0;--bs-yellow:#F99900;--bs-copper:#F96700;--bs-brass:#F99900;--bs-gold:#F9E486;--bs-red-900:#BE002A;--bs-red-800:#CC0937;--bs-red-700:#D9163E;--bs-red-600:#EB2345;--bs-red-500:#FB2E47;--bs-red-400:#F4485F;--bs-red-300:#F06A6C;--bs-red-200:#F89595;--bs-red-100:#FFCAD0;--bs-red-50:#FFEAED;--bs-red:#CC0937;--bs-ember:#CC0937;--bs-purple-900:#452283;--bs-purple-800:#632A94;--bs-purple-700:#732F9D;--bs-purple-600:#8535A6;--bs-purple-500:#9339AD;--bs-purple-400:#A252B9;--bs-purple-300:#B36FC6;--bs-purple-200:#C897D7;--bs-purple-100:#DEC0E6;--bs-purple-50:#F2E6F5;--bs-purple:#732F9D;--bs-manganese:#732F9D;--bs-gray-900:#23282E;--bs-gray-800:#324054;--bs-gray-700:#455469;--bs-gray-600:#5E6D82;--bs-gray-500:#69788B;--bs-gray-400:#ACB9CE;--bs-gray-300:#C9D5E6;--bs-gray-200:#E7EEF4;--bs-gray-100:#F6F8FA;--bs-gray-50:#F8FCFD;--bs-black:#000000;--bs-gray:#455469;--bs-white:#FFFFFF;--bs-iron:#455469;--bs-aluminum:#ACB9CE;--bs-titanium:#F6F8FA;--bs-ping-red:#B3282D;--bs-ping-gray:#263746;--bs-primary-rgb:0, 107, 200;--bs-secondary-rgb:3, 43, 117;--bs-success-rgb:0, 187, 134;--bs-info-rgb:61, 171, 252;--bs-warning-rgb:249, 153, 0;--bs-danger-rgb:204, 9, 55;--bs-dark-rgb:69, 84, 105;--bs-light-rgb:172, 185, 206;--bs-darkblue-900-rgb:3, 43, 117;--bs-darkblue-800-rgb:21, 60, 139;--bs-darkblue-700-rgb:30, 70, 151;--bs-darkblue-600-rgb:41, 80, 163;--bs-darkblue-500-rgb:47, 87, 173;--bs-darkblue-400-rgb:83, 112, 184;--bs-darkblue-300-rgb:115, 138, 196;--bs-darkblue-200-rgb:155, 171, 213;--bs-darkblue-100-rgb:194, 204, 230;--bs-darkblue-50-rgb:231, 235, 245;--bs-darkblue-rgb:3, 43, 117;--bs-steel-blue-rgb:3, 43, 117;--bs-lightblue-900-rgb:0, 76, 169;--bs-lightblue-800-rgb:0, 107, 200;--bs-lightblue-700-rgb:4, 124, 218;--bs-lightblue-600-rgb:11, 142, 237;--bs-lightblue-500-rgb:15, 156, 251;--bs-lightblue-400-rgb:61, 171, 252;--bs-lightblue-300-rgb:98, 186, 252;--bs-lightblue-200-rgb:144, 206, 253;--bs-lightblue-100-rgb:187, 224, 253;--bs-lightblue-50-rgb:227, 243, 254;--bs-lightblue-rgb:0, 107, 200;--bs-cobalt-rgb:0, 107, 200;--bs-green-900-rgb:0, 93, 53;--bs-green-800-rgb:0, 124, 75;--bs-green-700-rgb:0, 141, 88;--bs-green-600-rgb:0, 160, 102;--bs-green-500-rgb:0, 175, 113;--bs-green-400-rgb:0, 187, 134;--bs-green-300-rgb:82, 199, 155;--bs-green-200-rgb:139, 214, 183;--bs-green-100-rgb:185, 230, 211;--bs-green-50-rgb:226, 245, 237;--bs-green-rgb:0, 187, 134;--bs-verdigris-rgb:0, 187, 134;--bs-yellow-900-rgb:249, 103, 0;--bs-yellow-800-rgb:250, 136, 0;--bs-yellow-700-rgb:249, 153, 0;--bs-yellow-600-rgb:250, 172, 0;--bs-yellow-500-rgb:250, 186, 0;--bs-yellow-400-rgb:251, 195, 35;--bs-yellow-300-rgb:252, 207, 75;--bs-yellow-200-rgb:249, 228, 134;--bs-yellow-100-rgb:254, 233, 177;--bs-yellow-50-rgb:255, 247, 224;--bs-yellow-rgb:249, 153, 0;--bs-copper-rgb:249, 103, 0;--bs-brass-rgb:249, 153, 0;--bs-gold-rgb:249, 228, 134;--bs-red-900-rgb:190, 0, 42;--bs-red-800-rgb:204, 9, 55;--bs-red-700-rgb:217, 22, 62;--bs-red-600-rgb:235, 35, 69;--bs-red-500-rgb:251, 46, 71;--bs-red-400-rgb:244, 72, 95;--bs-red-300-rgb:240, 106, 108;--bs-red-200-rgb:248, 149, 149;--bs-red-100-rgb:255, 202, 208;--bs-red-50-rgb:255, 234, 237;--bs-red-rgb:204, 9, 55;--bs-ember-rgb:204, 9, 55;--bs-purple-900-rgb:69, 34, 131;--bs-purple-800-rgb:99, 42, 148;--bs-purple-700-rgb:115, 47, 157;--bs-purple-600-rgb:133, 53, 166;--bs-purple-500-rgb:147, 57, 173;--bs-purple-400-rgb:162, 82, 185;--bs-purple-300-rgb:179, 111, 198;--bs-purple-200-rgb:200, 151, 215;--bs-purple-100-rgb:222, 192, 230;--bs-purple-50-rgb:242, 230, 245;--bs-purple-rgb:115, 47, 157;--bs-manganese-rgb:115, 47, 157;--bs-gray-900-rgb:35, 40, 46;--bs-gray-800-rgb:50, 64, 84;--bs-gray-700-rgb:69, 84, 105;--bs-gray-600-rgb:94, 109, 130;--bs-gray-500-rgb:105, 120, 139;--bs-gray-400-rgb:172, 185, 206;--bs-gray-300-rgb:201, 213, 230;--bs-gray-200-rgb:231, 238, 244;--bs-gray-100-rgb:246, 248, 250;--bs-gray-50-rgb:248, 252, 253;--bs-gray-rgb:69, 84, 105;--bs-iron-rgb:69, 84, 105;--bs-aluminum-rgb:172, 185, 206;--bs-titanium-rgb:246, 248, 250;--bs-ping-red-rgb:179, 40, 45;--bs-ping-gray-rgb:38, 55, 70;--bs-primary-text-emphasis:#052c65;--bs-secondary-text-emphasis:#2b2f32;--bs-success-text-emphasis:#0a3622;--bs-info-text-emphasis:#055160;--bs-warning-text-emphasis:#664d03;--bs-danger-text-emphasis:#58151c;--bs-light-text-emphasis:#495057;--bs-dark-text-emphasis:#495057;--bs-primary-bg-subtle:#cfe2ff;--bs-secondary-bg-subtle:#e2e3e5;--bs-success-bg-subtle:#d1e7dd;--bs-info-bg-subtle:#cff4fc;--bs-warning-bg-subtle:#fff3cd;--bs-danger-bg-subtle:#f8d7da;--bs-light-bg-subtle:#fcfcfd;--bs-dark-bg-subtle:#ced4da;--bs-primary-border-subtle:#9ec5fe;--bs-secondary-border-subtle:#c4c8cb;--bs-success-border-subtle:#a3cfbb;--bs-info-border-subtle:#9eeaf9;--bs-warning-border-subtle:#ffe69c;--bs-danger-border-subtle:#f1aeb5;--bs-light-border-subtle:#e9ecef;--bs-dark-border-subtle:#adb5bd;--bs-white-rgb:255, 255, 255;--bs-black-rgb:0, 0, 0;--bs-font-sans-serif:\"Open Sans\", sans-serif;--bs-font-monospace:SFMono-Regular, Menlo, Monaco, Consolas, \"Liberation Mono\", \"Courier New\", monospace;--bs-gradient:linear-gradient(180deg, rgba(255, 255, 255, .15), rgba(255, 255, 255, 0));--bs-body-font-family:var(--bs-font-sans-serif);--bs-body-font-size:.875rem;--bs-body-font-weight:400;--bs-body-line-height:1.5;--bs-body-color:#212529;--bs-body-color-rgb:33, 37, 41;--bs-body-bg:#F6F8FA;--bs-body-bg-rgb:246, 248, 250;--bs-emphasis-color:#000;--bs-emphasis-color-rgb:0, 0, 0;--bs-secondary-color:rgba(33, 37, 41, .75);--bs-secondary-color-rgb:33, 37, 41;--bs-secondary-bg:#e9ecef;--bs-secondary-bg-rgb:233, 236, 239;--bs-tertiary-color:rgba(33, 37, 41, .5);--bs-tertiary-color-rgb:33, 37, 41;--bs-tertiary-bg:#f8f9fa;--bs-tertiary-bg-rgb:248, 249, 250;--bs-heading-color:inherit;--bs-link-color:#006BC8;--bs-link-color-rgb:0, 107, 200;--bs-link-decoration:none;--bs-link-hover-color:#0056a0;--bs-link-hover-color-rgb:0, 86, 160;--bs-link-hover-decoration:underline;--bs-code-color:#d63384;--bs-highlight-color:#212529;--bs-highlight-bg:#fff3cd;--bs-border-width:1px;--bs-border-style:solid;--bs-border-color:#dee2e6;--bs-border-color-translucent:rgba(0, 0, 0, .175);--bs-border-radius:.375rem;--bs-border-radius-sm:.25rem;--bs-border-radius-lg:.5rem;--bs-border-radius-xl:1rem;--bs-border-radius-xxl:2rem;--bs-border-radius-2xl:var(--bs-border-radius-xxl);--bs-border-radius-pill:50rem;--bs-box-shadow:0 .5rem 1rem rgba(0, 0, 0, .15);--bs-box-shadow-sm:0 .125rem .25rem rgba(0, 0, 0, .075);--bs-box-shadow-lg:0 1rem 3rem rgba(0, 0, 0, .175);--bs-box-shadow-inset:inset 0 1px 2px rgba(0, 0, 0, .075);--bs-focus-ring-width:.25rem;--bs-focus-ring-opacity:.25;--bs-focus-ring-color:rgba(13, 110, 253, .25);--bs-form-valid-color:#198754;--bs-form-valid-border-color:#198754;--bs-form-invalid-color:#dc3545;--bs-form-invalid-border-color:#dc3545}*,*:before,*:after{box-sizing:border-box}@media (prefers-reduced-motion: no-preference){:root{scroll-behavior:smooth}}body{margin:0;font-family:var(--bs-body-font-family);font-size:var(--bs-body-font-size);font-weight:var(--bs-body-font-weight);line-height:var(--bs-body-line-height);color:var(--bs-body-color);text-align:var(--bs-body-text-align);background-color:var(--bs-body-bg);-webkit-text-size-adjust:100%;-webkit-tap-highlight-color:rgba(0,0,0,0)}a{color:rgba(var(--bs-link-color-rgb),var(--bs-link-opacity, 1));text-decoration:none}a:hover{--bs-link-color-rgb:var(--bs-link-hover-color-rgb);text-decoration:underline}:root{--bs-breakpoint-xs:0;--bs-breakpoint-sm:576px;--bs-breakpoint-md:768px;--bs-breakpoint-lg:992px;--bs-breakpoint-xl:1200px;--bs-breakpoint-xxl:1400px}.mt-2{margin-top:.5rem!important}.text-center{text-align:center!important}.text-danger{--bs-text-opacity:1;color:rgba(var(--bs-danger-rgb),var(--bs-text-opacity))!important}.text-danger{color:rgba(var(--bs-danger-rgb),var(--bs-text-opacity))!important}html{position:relative;min-height:100%}</style><link href=\"styles.f690e88b6ac5a737.css\" media=\"print\" onload=\"this.media='all'\" rel=\"stylesheet\"/><noscript><link href=\"styles.f690e88b6ac5a737.css\" rel=\"stylesheet\"/></noscript></head>\n",
       "<body>\n",
       "<div class=\"text-danger\" i18n=\"\" id=\"app-error\" style=\"display: none;\">\n",
       "  Something went wrong... You can report this issue at <a href=\"mailto:backstagehelp.forgerock.com\">backstage.forgerock.com</a>\n",
       "</div>\n",
       "<app-root>\n",
       "<div class=\"page-loading text-center\" id=\"waitforit\">\n",
       "<div class=\"forgerock-logo\"></div>\n",
       "<div class=\"mt-2\" i18n=\"\" id=\"app-loading\"> Loading...\n",
       "    </div>\n",
       "</div>\n",
       "</app-root>\n",
       "<script src=\"runtime.8b543ddf2829b68d.js\" type=\"module\"></script><script src=\"polyfills.d956bdeb95de3367.js\" type=\"module\"></script><script src=\"main.9d608b4010094bc9.js\" type=\"module\"></script></body>\n",
       "</html>"
      ]
     },
     "execution_count": 108,
     "metadata": {},
     "output_type": "execute_result"
    }
   ],
   "source": [
    "soup_knowledge"
   ]
  },
  {
   "cell_type": "code",
   "execution_count": 1,
   "metadata": {},
   "outputs": [
    {
     "ename": "NameError",
     "evalue": "name 'soup_knowledge' is not defined",
     "output_type": "error",
     "traceback": [
      "\u001b[1;31m---------------------------------------------------------------------------\u001b[0m",
      "\u001b[1;31mNameError\u001b[0m                                 Traceback (most recent call last)",
      "Cell \u001b[1;32mIn[1], line 1\u001b[0m\n\u001b[1;32m----> 1\u001b[0m \u001b[43msoup_knowledge\u001b[49m\n",
      "\u001b[1;31mNameError\u001b[0m: name 'soup_knowledge' is not defined"
     ]
    }
   ],
   "source": [
    "soup_knowledge"
   ]
  }
 ],
 "metadata": {
  "kernelspec": {
   "display_name": "Python 3",
   "language": "python",
   "name": "python3"
  },
  "language_info": {
   "codemirror_mode": {
    "name": "ipython",
    "version": 3
   },
   "file_extension": ".py",
   "mimetype": "text/x-python",
   "name": "python",
   "nbconvert_exporter": "python",
   "pygments_lexer": "ipython3",
   "version": "3.12.0"
  }
 },
 "nbformat": 4,
 "nbformat_minor": 2
}
